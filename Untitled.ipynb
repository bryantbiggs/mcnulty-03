{
 "cells": [
  {
   "cell_type": "code",
   "execution_count": 47,
   "metadata": {
    "collapsed": true
   },
   "outputs": [],
   "source": [
    "import numpy as np\n",
    "import random\n",
    "import matplotlib.pyplot as plt\n",
    "%matplotlib inline\n",
    "\n",
    "#20x20"
   ]
  },
  {
   "cell_type": "code",
   "execution_count": 52,
   "metadata": {
    "collapsed": false
   },
   "outputs": [
    {
     "data": {
      "text/plain": [
       "(200, 20)"
      ]
     },
     "execution_count": 52,
     "metadata": {},
     "output_type": "execute_result"
    }
   ],
   "source": [
    "mat = np.random.randint(16, size=(200,20)).astype('uint8')\n",
    "mat.shape"
   ]
  },
  {
   "cell_type": "code",
   "execution_count": 53,
   "metadata": {
    "collapsed": false
   },
   "outputs": [],
   "source": [
    "_new = []\n",
    "for i,arr in enumerate(mat):\n",
    "    _sum = sum(arr)\n",
    "    arr = np.append(arr,_sum)\n",
    "    _new.append(arr)"
   ]
  },
  {
   "cell_type": "code",
   "execution_count": 54,
   "metadata": {
    "collapsed": false
   },
   "outputs": [
    {
     "data": {
      "text/plain": [
       "array([[ 4,  3,  2, ..., 12, 15,  3],\n",
       "       [11,  0,  4, ...,  6, 10,  7],\n",
       "       [ 1,  8, 10, ...,  4,  0,  8],\n",
       "       ..., \n",
       "       [13,  4, 15, ..., 15,  5,  4],\n",
       "       [ 7,  1, 12, ...,  4,  7,  0],\n",
       "       [ 6, 14, 13, ...,  1,  4, 15]], dtype=uint8)"
      ]
     },
     "execution_count": 54,
     "metadata": {},
     "output_type": "execute_result"
    }
   ],
   "source": [
    "mat"
   ]
  },
  {
   "cell_type": "code",
   "execution_count": 55,
   "metadata": {
    "collapsed": false
   },
   "outputs": [
    {
     "data": {
      "text/plain": [
       "[150,\n",
       " 140,\n",
       " 107,\n",
       " 130,\n",
       " 107,\n",
       " 168,\n",
       " 161,\n",
       " 129,\n",
       " 147,\n",
       " 105,\n",
       " 187,\n",
       " 137,\n",
       " 123,\n",
       " 148,\n",
       " 126,\n",
       " 144,\n",
       " 142,\n",
       " 102,\n",
       " 169,\n",
       " 139,\n",
       " 176,\n",
       " 189,\n",
       " 135,\n",
       " 157,\n",
       " 141,\n",
       " 155,\n",
       " 127,\n",
       " 143,\n",
       " 145,\n",
       " 111,\n",
       " 128,\n",
       " 125,\n",
       " 177,\n",
       " 192,\n",
       " 153,\n",
       " 149,\n",
       " 168,\n",
       " 147,\n",
       " 158,\n",
       " 163,\n",
       " 153,\n",
       " 120,\n",
       " 137,\n",
       " 138,\n",
       " 161,\n",
       " 104,\n",
       " 139,\n",
       " 134,\n",
       " 151,\n",
       " 158,\n",
       " 102,\n",
       " 131,\n",
       " 128,\n",
       " 125,\n",
       " 173,\n",
       " 134,\n",
       " 149,\n",
       " 173,\n",
       " 177,\n",
       " 140,\n",
       " 167,\n",
       " 113,\n",
       " 167,\n",
       " 127,\n",
       " 152,\n",
       " 151,\n",
       " 209,\n",
       " 153,\n",
       " 155,\n",
       " 117,\n",
       " 166,\n",
       " 191,\n",
       " 180,\n",
       " 124,\n",
       " 125,\n",
       " 119,\n",
       " 148,\n",
       " 149,\n",
       " 140,\n",
       " 165,\n",
       " 152,\n",
       " 148,\n",
       " 128,\n",
       " 133,\n",
       " 167,\n",
       " 127,\n",
       " 158,\n",
       " 158,\n",
       " 160,\n",
       " 147,\n",
       " 151,\n",
       " 122,\n",
       " 165,\n",
       " 171,\n",
       " 140,\n",
       " 121,\n",
       " 126,\n",
       " 139,\n",
       " 148,\n",
       " 149,\n",
       " 143,\n",
       " 144,\n",
       " 126,\n",
       " 176,\n",
       " 127,\n",
       " 168,\n",
       " 136,\n",
       " 141,\n",
       " 143,\n",
       " 157,\n",
       " 146,\n",
       " 160,\n",
       " 111,\n",
       " 155,\n",
       " 166,\n",
       " 184,\n",
       " 145,\n",
       " 159,\n",
       " 128,\n",
       " 134,\n",
       " 149,\n",
       " 142,\n",
       " 141,\n",
       " 191,\n",
       " 141,\n",
       " 148,\n",
       " 127,\n",
       " 160,\n",
       " 131,\n",
       " 157,\n",
       " 145,\n",
       " 148,\n",
       " 172,\n",
       " 132,\n",
       " 129,\n",
       " 150,\n",
       " 115,\n",
       " 151,\n",
       " 175,\n",
       " 135,\n",
       " 180,\n",
       " 135,\n",
       " 165,\n",
       " 137,\n",
       " 149,\n",
       " 159,\n",
       " 138,\n",
       " 125,\n",
       " 158,\n",
       " 159,\n",
       " 124,\n",
       " 150,\n",
       " 132,\n",
       " 174,\n",
       " 175,\n",
       " 130,\n",
       " 169,\n",
       " 135,\n",
       " 151,\n",
       " 177,\n",
       " 159,\n",
       " 128,\n",
       " 168,\n",
       " 170,\n",
       " 165,\n",
       " 133,\n",
       " 112,\n",
       " 178,\n",
       " 151,\n",
       " 150,\n",
       " 177,\n",
       " 129,\n",
       " 163,\n",
       " 127,\n",
       " 157,\n",
       " 180,\n",
       " 169,\n",
       " 116,\n",
       " 154,\n",
       " 182,\n",
       " 147,\n",
       " 200,\n",
       " 146,\n",
       " 125,\n",
       " 134,\n",
       " 144,\n",
       " 142,\n",
       " 176,\n",
       " 164,\n",
       " 150,\n",
       " 155,\n",
       " 188,\n",
       " 178,\n",
       " 150,\n",
       " 134,\n",
       " 150,\n",
       " 106,\n",
       " 149,\n",
       " 134,\n",
       " 151]"
      ]
     },
     "execution_count": 55,
     "metadata": {},
     "output_type": "execute_result"
    }
   ],
   "source": [
    "nums = [x[-1] for x in _new]\n",
    "nums"
   ]
  },
  {
   "cell_type": "code",
   "execution_count": 56,
   "metadata": {
    "collapsed": false
   },
   "outputs": [
    {
     "data": {
      "image/png": "[encoded data removed]",
      "text/plain": [
       "<matplotlib.figure.Figure at 0x1104de780>"
      ]
     },
     "metadata": {},
     "output_type": "display_data"
    }
   ],
   "source": [
    "n, bins, patches = plt.hist(nums, 50, normed=1, facecolor='green', alpha=0.75)"
   ]
  },
  {
   "cell_type": "code",
   "execution_count": 57,
   "metadata": {
    "collapsed": false
   },
   "outputs": [
    {
     "data": {
      "text/plain": [
       "(array([ 10.,   9.,  38.,  30.,  46.,  27.,  21.,  12.,   5.,   2.]),\n",
       " array([ 102. ,  112.7,  123.4,  134.1,  144.8,  155.5,  166.2,  176.9,\n",
       "         187.6,  198.3,  209. ]),\n",
       " <a list of 10 Patch objects>)"
      ]
     },
     "execution_count": 57,
     "metadata": {},
     "output_type": "execute_result"
    },
    {
     "data": {
      "image/png": "[encoded data removed]",
      "text/plain": [
       "<matplotlib.figure.Figure at 0x1105f9b70>"
      ]
     },
     "metadata": {},
     "output_type": "display_data"
    }
   ],
   "source": [
    "plt.hist(nums)"
   ]
  },
  {
   "cell_type": "code",
   "execution_count": null,
   "metadata": {
    "collapsed": true
   },
   "outputs": [],
   "source": []
  }
 ],
 "metadata": {
  "kernelspec": {
   "display_name": "Python [conda root]",
   "language": "python",
   "name": "conda-root-py"
  },
  "language_info": {
   "codemirror_mode": {
    "name": "ipython",
    "version": 3
   },
   "file_extension": ".py",
   "mimetype": "text/x-python",
   "name": "python",
   "nbconvert_exporter": "python",
   "pygments_lexer": "ipython3",
   "version": "3.5.2"
  }
 },
 "nbformat": 4,
 "nbformat_minor": 2
}
