{
 "cells": [
  {
   "cell_type": "code",
   "execution_count": 104,
   "metadata": {
    "collapsed": true
   },
   "outputs": [],
   "source": [
    "import matplotlib.pyplot as plt\n",
    "%matplotlib inline\n",
    "\n",
    "import numpy as np\n",
    "\n",
    "from scipy.io import loadmat\n",
    "from scipy.ndimage import imread\n",
    "\n",
    "from skimage import data, io, filters\n",
    "\n",
    "from sklearn.svm import SVC"
   ]
  },
  {
   "cell_type": "code",
   "execution_count": 105,
   "metadata": {
    "collapsed": true
   },
   "outputs": [],
   "source": [
    "def reshape_4d_2d(orig_arr):\n",
    "    # reshape image arrays from 4D to 2D (image x height-width-rgb)\n",
    "    if len(orig_arr.shape) > 2:\n",
    "        num_imgs, height, width, rgb = orig_arr.shape\n",
    "        new_arr = orig_arr.reshape(num_imgs, height*width*rgb)\n",
    "        return new_arr\n",
    "    else:\n",
    "        return orig_arr"
   ]
  },
  {
   "cell_type": "markdown",
   "metadata": {},
   "source": [
    "# Training Data"
   ]
  },
  {
   "cell_type": "code",
   "execution_count": 106,
   "metadata": {
    "collapsed": false
   },
   "outputs": [],
   "source": [
    "train_mat = 'data/train_32x32.mat'\n",
    "train_32 = loadmat(train_mat)\n",
    "\n",
    "# list of numpy arrays of digit pixels {io.imshow(x_train[i])}\n",
    "x_train = np.rollaxis(train_32['X'], -1) \n",
    "\n",
    "# responses for x_train\n",
    "y_train = train_32['y'].ravel() \n",
    "\n",
    "# reshape array to 2D\n",
    "x_train2d = reshape_4d_2d(x_train)"
   ]
  },
  {
   "cell_type": "markdown",
   "metadata": {},
   "source": [
    "# Testing Data"
   ]
  },
  {
   "cell_type": "code",
   "execution_count": 107,
   "metadata": {
    "collapsed": true
   },
   "outputs": [],
   "source": [
    "test_mat = 'data/test_32x32.mat'\n",
    "test_32 = loadmat(test_mat)\n",
    "\n",
    "# list of numpy arrays of digit pixels {io.imshow(x_test[i])}\n",
    "x_test = np.rollaxis(test_32['X'], -1)\n",
    "\n",
    "# response for x_test\n",
    "y_test = test_32['y'].ravel() \n",
    "\n",
    "# reshape array to 2D\n",
    "x_test2d = reshape_4d_2d(x_test)"
   ]
  },
  {
   "cell_type": "markdown",
   "metadata": {},
   "source": [
    "# Limit data for early exploration"
   ]
  },
  {
   "cell_type": "code",
   "execution_count": 109,
   "metadata": {
    "collapsed": false
   },
   "outputs": [
    {
     "name": "stdout",
     "output_type": "stream",
     "text": [
      "X Shape: (1000, 3072)\n",
      "Y Shape: (1000,)\n"
     ]
    }
   ],
   "source": [
    "image_limiter = 1000\n",
    "\n",
    "assert len(x_train2d.shape) == 2\n",
    "assert len(x_test2d.shape) == 2\n",
    "\n",
    "x_train2d = x_train2d[:image_limiter]\n",
    "y_train = y_train[:image_limiter]\n",
    "\n",
    "print('X Shape: {0}'.format(x_train2d.shape))\n",
    "print('Y Shape: {0}'.format(y_train.shape))"
   ]
  },
  {
   "cell_type": "markdown",
   "metadata": {},
   "source": [
    "# Support Vector Machine"
   ]
  },
  {
   "cell_type": "code",
   "execution_count": 111,
   "metadata": {
    "collapsed": false
   },
   "outputs": [],
   "source": [
    "svm_clf = SVC(gamma=0.001, C=100.)\n",
    "svm_mdl = svm_clf.fit(x_train2d[:-1], y_train[:-1])  "
   ]
  },
  {
   "cell_type": "code",
   "execution_count": 113,
   "metadata": {
    "collapsed": false
   },
   "outputs": [
    {
     "data": {
      "text/plain": [
       "0.19587430854333129"
      ]
     },
     "execution_count": 113,
     "metadata": {},
     "output_type": "execute_result"
    }
   ],
   "source": [
    "from sklearn.metrics import accuracy_score\n",
    "\n",
    "accuracy_score(y_test, svm_mdl.predict(x_test2d))"
   ]
  },
  {
   "cell_type": "code",
   "execution_count": 62,
   "metadata": {
    "collapsed": false
   },
   "outputs": [
    {
     "data": {
      "text/plain": [
       "<matplotlib.image.AxesImage at 0x11b050a58>"
      ]
     },
     "execution_count": 62,
     "metadata": {},
     "output_type": "execute_result"
    },
    {
     "data": {
      "image/png": "[encoded data removed]",
      "text/plain": [
       "<matplotlib.figure.Figure at 0x11af336d8>"
      ]
     },
     "metadata": {},
     "output_type": "display_data"
    }
   ],
   "source": [
    "plt.imshow(b, cmap=plt.cm.gray_r, interpolation='nearest')"
   ]
  },
  {
   "cell_type": "code",
   "execution_count": null,
   "metadata": {
    "collapsed": false
   },
   "outputs": [],
   "source": [
    "from os import listdir\n",
    "from os.path import isfile, join\n",
    "mypath = 'data/test'\n",
    "# return files from path specified\n",
    "images = [f for f in listdir(mypath) if isfile(join(mypath, f))]"
   ]
  },
  {
   "cell_type": "code",
   "execution_count": null,
   "metadata": {
    "collapsed": false
   },
   "outputs": [],
   "source": [
    "json = images[-4]"
   ]
  },
  {
   "cell_type": "code",
   "execution_count": null,
   "metadata": {
    "collapsed": true
   },
   "outputs": [],
   "source": []
  }
 ],
 "metadata": {
  "kernelspec": {
   "display_name": "Python 3",
   "language": "python",
   "name": "python3"
  },
  "language_info": {
   "codemirror_mode": {
    "name": "ipython",
    "version": 3
   },
   "file_extension": ".py",
   "mimetype": "text/x-python",
   "name": "python",
   "nbconvert_exporter": "python",
   "pygments_lexer": "ipython3",
   "version": "3.5.1"
  }
 },
 "nbformat": 4,
 "nbformat_minor": 0
}
