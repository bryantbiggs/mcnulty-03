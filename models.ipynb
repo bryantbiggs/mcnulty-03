{
 "cells": [
  {
   "cell_type": "code",
   "execution_count": 2,
   "metadata": {
    "collapsed": false
   },
   "outputs": [],
   "source": [
    "import random\n",
    "from collections import Counter\n",
    "\n",
    "import numpy as np\n",
    "\n",
    "from sklearn.grid_search import GridSearchCV\n",
    "\n",
    "from sklearn.svm import SVC\n",
    "from sklearn.linear_model import SGDClassifier\n",
    "\n",
    "from sklearn.metrics import classification_report, confusion_matrix, accuracy_score\n",
    "\n",
    "import warnings\n",
    "warnings.filterwarnings('ignore')"
   ]
  },
  {
   "cell_type": "markdown",
   "metadata": {},
   "source": [
    "# Load Pickled Labels"
   ]
  },
  {
   "cell_type": "code",
   "execution_count": 3,
   "metadata": {
    "collapsed": false
   },
   "outputs": [
    {
     "name": "stdout",
     "output_type": "stream",
     "text": [
      "Training labels shape: (7326,)\n",
      "Testing labels shape:  (2603,)\n"
     ]
    }
   ],
   "source": [
    "directory = 'generated_data'\n",
    "\n",
    "train_labels = np.load('{0}/train_labels.dat'.format(directory))\n",
    "test_labels = np.load('{0}/test_labels.dat'.format(directory))\n",
    "print('Training labels shape: {0}'.format(train_labels.shape))\n",
    "print('Testing labels shape:  {0}'.format(test_labels.shape))"
   ]
  },
  {
   "cell_type": "markdown",
   "metadata": {},
   "source": [
    "# Load Custom Conversion Data"
   ]
  },
  {
   "cell_type": "code",
   "execution_count": 4,
   "metadata": {
    "collapsed": false
   },
   "outputs": [
    {
     "name": "stdout",
     "output_type": "stream",
     "text": [
      "Custom Conversion training shape: (7326, 640)\n",
      "Custom Conversion testing shape:  (2603, 640)\n"
     ]
    }
   ],
   "source": [
    "train_CustGray_2d = np.load('{0}/train_CustGray_2d.dat'.format(directory))\n",
    "test_CustGray_2d = np.load('{0}/test_CustGray_2d.dat'.format(directory))\n",
    "print('Custom Conversion training shape: {0}'.format(train_CustGray_2d.shape))\n",
    "print('Custom Conversion testing shape:  {0}'.format(test_CustGray_2d.shape))"
   ]
  },
  {
   "cell_type": "markdown",
   "metadata": {},
   "source": [
    "# Load Otsu's Binarization Threshold Data"
   ]
  },
  {
   "cell_type": "code",
   "execution_count": 13,
   "metadata": {
    "collapsed": false
   },
   "outputs": [
    {
     "name": "stdout",
     "output_type": "stream",
     "text": [
      "Otsu training shape: (7326, 640)\n",
      "Otsu testing shape:  (2603, 640)\n"
     ]
    }
   ],
   "source": [
    "train_OCAT_2d = np.load('{0}/train_OCAT_2d.dat'.format(directory))\n",
    "test_OCAT_2d = np.load('{0}/test_OCAT_2d.dat'.format(directory))\n",
    "print('Otsu training shape: {0}'.format(train_OCAT_2d.shape))\n",
    "print('Otsu testing shape:  {0}'.format(test_OCAT_2d.shape))"
   ]
  },
  {
   "cell_type": "markdown",
   "metadata": {},
   "source": [
    "# Load Adaptive Mean Threshold Data"
   ]
  },
  {
   "cell_type": "code",
   "execution_count": 19,
   "metadata": {
    "collapsed": false
   },
   "outputs": [
    {
     "name": "stdout",
     "output_type": "stream",
     "text": [
      "Adaptive mean training shape: (7326, 640)\n",
      "Adaptive mean testing shape:  (2603, 640)\n"
     ]
    }
   ],
   "source": [
    "train_AMT_2d = np.load('{0}/train_AMT_2d.dat'.format(directory))\n",
    "test_AMT_2d = np.load('{0}/test_AMT_2d.dat'.format(directory))\n",
    "print('Adaptive mean training shape: {0}'.format(train_AMT_2d.shape))\n",
    "print('Adaptive mean testing shape:  {0}'.format(test_AMT_2d.shape))"
   ]
  },
  {
   "cell_type": "markdown",
   "metadata": {},
   "source": [
    "# KNN"
   ]
  },
  {
   "cell_type": "code",
   "execution_count": 23,
   "metadata": {
    "collapsed": false
   },
   "outputs": [],
   "source": [
    "from sklearn.neighbors import KNeighborsClassifier\n",
    "\n",
    "knn_dict = {}\n",
    "for i in range(1,20):\n",
    "    knn_clf = KNeighborsClassifier(n_neighbors=i)\n",
    "    knn_mdl = knn_clf.fit(train_AMT_2d, train_labels)\n",
    "    knn_dict[i] = '{0:.2f}%'.format(knn_mdl.score(test_AMT_2d, test_labels)*100)"
   ]
  },
  {
   "cell_type": "code",
   "execution_count": 33,
   "metadata": {
    "collapsed": false
   },
   "outputs": [
    {
     "data": {
      "text/plain": [
       "'63.62%'"
      ]
     },
     "execution_count": 33,
     "metadata": {},
     "output_type": "execute_result"
    }
   ],
   "source": [
    "max(knn_dict.values())"
   ]
  },
  {
   "cell_type": "code",
   "execution_count": 25,
   "metadata": {
    "collapsed": false
   },
   "outputs": [
    {
     "name": "stdout",
     "output_type": "stream",
     "text": [
      "Training score is:  70.72%\n",
      "Test score is: 62.89%\n"
     ]
    }
   ],
   "source": [
    "print('Training score is:  {0:.2f}%'.format(knn_mdl.score(train_AMT_2d, train_labels)*100))\n",
    "print('Test score is: {0:.2f}%'.format(knn_mdl.score(test_AMT_2d, test_labels)*100))"
   ]
  },
  {
   "cell_type": "markdown",
   "metadata": {},
   "source": [
    "# Extra Trees Classifier"
   ]
  },
  {
   "cell_type": "code",
   "execution_count": 35,
   "metadata": {
    "collapsed": true
   },
   "outputs": [],
   "source": [
    "from sklearn.ensemble import ExtraTreesClassifier\n",
    "#ExtraTreesClassifier(n_estimators=10, criterion='gini', max_depth=None, min_samples_split=2, min_samples_leaf=1, \n",
    "#                     min_weight_fraction_leaf=0.0, max_features='auto', max_leaf_nodes=None, bootstrap=False, \n",
    "#                     oob_score=False, n_jobs=1, random_state=None, verbose=0, warm_start=False, class_weight=None)\n",
    "\n",
    "extree_dict = {}\n",
    "for i in range(1,40):\n",
    "    extree_clf = ExtraTreesClassifier(n_estimators=i)\n",
    "    extree_mdl = extree_clf.fit(train_OCAT_2d, train_labels)\n",
    "    extree_dict[i] = '{0:.2f}%'.format(extree_mdl.score(test_OCAT_2d, test_labels)*100)"
   ]
  },
  {
   "cell_type": "code",
   "execution_count": 36,
   "metadata": {
    "collapsed": false
   },
   "outputs": [
    {
     "data": {
      "text/plain": [
       "'63.73%'"
      ]
     },
     "execution_count": 36,
     "metadata": {},
     "output_type": "execute_result"
    }
   ],
   "source": [
    "max(extree_dict.values())"
   ]
  },
  {
   "cell_type": "code",
   "execution_count": 37,
   "metadata": {
    "collapsed": false
   },
   "outputs": [
    {
     "name": "stdout",
     "output_type": "stream",
     "text": [
      "Training score is:  100.00%\n",
      "Test score is: 63.31%\n"
     ]
    }
   ],
   "source": [
    "print('Training score is:  {0:.2f}%'.format(extree_mdl.score(train_OCAT_2d, train_labels)*100))\n",
    "print('Test score is: {0:.2f}%'.format(extree_mdl.score(test_OCAT_2d, test_labels)*100))"
   ]
  },
  {
   "cell_type": "markdown",
   "metadata": {},
   "source": [
    "# SVM Classifier"
   ]
  },
  {
   "cell_type": "code",
   "execution_count": 20,
   "metadata": {
    "collapsed": false
   },
   "outputs": [],
   "source": [
    "svc_clf = SVC()\n",
    "svc_mdl = svc_clf.fit(train_AMT_2d, train_labels)"
   ]
  },
  {
   "cell_type": "code",
   "execution_count": 17,
   "metadata": {
    "collapsed": false
   },
   "outputs": [],
   "source": [
    "c = np.array([1., 10., 50., 100., 500., 1000.])\n",
    "gamma = np.array([0.0001, 0.0005, 0.001, 0.005, 0.01, 0.1])\n",
    "\n",
    "#class sklearn.svm.SVC(C=1.0, kernel='rbf', degree=3, gamma='auto', coef0=0.0, shrinking=True, probability=False,\n",
    "#            tol=0.001, cache_size=200, class_weight=None, verbose=False, max_iter=-1, decision_function_shape=None, \n",
    "_ ='''\n",
    "svd_dict = {}\n",
    "\n",
    "for x in range(len(c)):\n",
    "    for y in range(len(gamma)):\n",
    "        svc_clf = SVC()\n",
    "        svc_mdl = svc_clf.fit(train_CustGray_2d, train_labels)\n",
    "        svd_dict[(c[x],gamma[y])] = svc_mdl.score(test_CustGray_2d, test_labels)*100\n",
    "'''"
   ]
  },
  {
   "cell_type": "code",
   "execution_count": 21,
   "metadata": {
    "collapsed": false
   },
   "outputs": [
    {
     "name": "stdout",
     "output_type": "stream",
     "text": [
      "Training score is:  100.0%\n",
      "Test score is: 19.55436035343834%\n"
     ]
    }
   ],
   "source": [
    "print('Training score is:  {0}%'.format(svc_mdl.score(train_AMT_2d, train_labels)*100))\n",
    "print('Test score is: {0}%'.format(svc_mdl.score(test_AMT_2d, test_labels)*100))"
   ]
  },
  {
   "cell_type": "code",
   "execution_count": null,
   "metadata": {
    "collapsed": false
   },
   "outputs": [],
   "source": [
    "best_parameters = svc_grid.best_estimator_.get_params()\n",
    "for param_name in sorted(param_grid.keys()):\n",
    "    print('\\t{0}: {1}'.format(param_name, best_parameters[param_name]))\n",
    "    \n",
    "print('Training score is', svc_mdl.score(train_data, train_labels))\n",
    "print('Test score is', svc_mdl.score(test_data, test_labels))\n",
    "print('-'*80)\n",
    "print('Classification report of training data:\\n', classification_report(train_labels, svc_mdl.predict(train_data)))\n",
    "print('-'*80)\n",
    "print('Classification report of test data:\\n', classification_report(test_labels, svc_mdl.predict(test_data)))"
   ]
  },
  {
   "cell_type": "markdown",
   "metadata": {},
   "source": [
    "# Logistic Regression Classifier"
   ]
  },
  {
   "cell_type": "code",
   "execution_count": null,
   "metadata": {
    "collapsed": false
   },
   "outputs": [],
   "source": [
    "from sklearn.linear_model import LogisticRegression\n",
    "param_grid = {\n",
    "            'penalty': ['l2'],\n",
    "            'class_weight': ['balanced'],\n",
    "            'solver': ['newton-cg', 'lbfgs', 'sag'],\n",
    "            'multi_class': ['ovr', 'multinomial']\n",
    "            }\n",
    "\n",
    "\n",
    "#logr_grid = SGDClassifier(loss='hinge', penalty='l2', alpha=0.001, shuffle=True, verbose=0, \n",
    "#                    n_jobs=4, random_state=None, learning_rate='optimal')\n",
    "\n",
    "logr_grid = GridSearchCV(LogisticRegression(n_jobs=-1), param_grid)\n",
    "logr_mdl = logr_grid.fit(train_CustGray_2d, train_labels)"
   ]
  },
  {
   "cell_type": "code",
   "execution_count": null,
   "metadata": {
    "collapsed": false
   },
   "outputs": [],
   "source": [
    "print('Training score is', logr_mdl.score(train_data, train_labels))\n",
    "print('Validation score is', logr_mdl.score(test_data, test_labels))\n",
    "print('-'*80)\n",
    "print('Classification report of training data:\\n', classification_report(train_labels, logr_mdl.predict(train_data)))\n",
    "print('-'*80)\n",
    "print('Classification report of validation data:\\n', classification_report(test_labels, logr_mdl.predict(test_data)))"
   ]
  },
  {
   "cell_type": "markdown",
   "metadata": {},
   "source": [
    "# Decision Tree Classifier"
   ]
  },
  {
   "cell_type": "code",
   "execution_count": null,
   "metadata": {
    "collapsed": false,
    "scrolled": false
   },
   "outputs": [],
   "source": [
    "from sklearn.pipeline import Pipeline\n",
    "from sklearn.tree import DecisionTreeClassifier\n",
    "pipeline = Pipeline([('clf',DecisionTreeClassifier(criterion='entropy',random_state=20000))])\n",
    "\n",
    "parameters = {\n",
    "            'criterion': ['gini', 'entropy'],\n",
    "            'clf__max_depth': (5, 10, 25, 50, 100),\n",
    "            'clf__min_samples_split': (1, 2, 3, 4),\n",
    "            'clf__min_samples_leaf': (1, 2, 3, 4)\n",
    "            }\n",
    "\n",
    "grid_search = GridSearchCV(pipeline, parameters, n_jobs=-1, verbose=1, scoring='f1_weighted')\n",
    "grid_search.fit(train_data, train_labels)\n",
    "\n",
    "print('Best score: {0}%'.format(grid_search.best_score_*100))\n",
    "print('Best parameters set:')\n",
    "\n",
    "best_parameters = grid_search.best_estimator_.get_params()\n",
    "\n",
    "for param_name in sorted(parameters.keys()):\n",
    "    print('\\t{0}: {1}'.format(param_name, best_parameters[param_name]))\n",
    "\n",
    "predictions = grid_search.predict(test_data)\n",
    "print(classification_report(test_labels, predictions))"
   ]
  }
 ],
 "metadata": {
  "anaconda-cloud": {},
  "kernelspec": {
   "display_name": "Python [Root]",
   "language": "python",
   "name": "Python [Root]"
  },
  "language_info": {
   "codemirror_mode": {
    "name": "ipython",
    "version": 3
   },
   "file_extension": ".py",
   "mimetype": "text/x-python",
   "name": "python",
   "nbconvert_exporter": "python",
   "pygments_lexer": "ipython3",
   "version": "3.5.2"
  }
 },
 "nbformat": 4,
 "nbformat_minor": 0
}
