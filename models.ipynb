{
 "cells": [
  {
   "cell_type": "code",
   "execution_count": 83,
   "metadata": {
    "collapsed": false
   },
   "outputs": [],
   "source": [
    "%matplotlib inline\n",
    "import matplotlib.pyplot as plt\n",
    "\n",
    "import os\n",
    "import random\n",
    "import pickle\n",
    "from collections import Counter\n",
    "\n",
    "import pandas as pd\n",
    "import numpy as np\n",
    "\n",
    "from sklearn.grid_search import GridSearchCV\n",
    "from sklearn.cross_validation import cross_val_score\n",
    "from sklearn.metrics import classification_report, confusion_matrix, accuracy_score\n",
    "\n",
    "# default plot stying changes\n",
    "import seaborn as sns\n",
    "sns.set_style(\"white\")\n",
    "sns.set_context(\"poster\", font_scale=1.25, rc={\"lines.linewidth\": 2.5})\n",
    "sns.set_palette(\"Set2\")\n",
    "colors = sns.color_palette('Set2',12)\n",
    "\n",
    "import warnings\n",
    "warnings.filterwarnings('ignore')"
   ]
  },
  {
   "cell_type": "markdown",
   "metadata": {},
   "source": [
    "# Load Pickled Labels"
   ]
  },
  {
   "cell_type": "code",
   "execution_count": 2,
   "metadata": {
    "collapsed": false
   },
   "outputs": [
    {
     "name": "stdout",
     "output_type": "stream",
     "text": [
      "Training labels shape: (7326,)\n",
      "Testing labels shape:  (2603,)\n"
     ]
    }
   ],
   "source": [
    "directory = 'generated_data'\n",
    "if not os.path.exists(directory):\n",
    "    os.makedirs(directory)\n",
    "\n",
    "train_labels = np.load('{0}/train_labels.dat'.format(directory))\n",
    "test_labels = np.load('{0}/test_labels.dat'.format(directory))\n",
    "print('Training labels shape: {0}'.format(train_labels.shape))\n",
    "print('Testing labels shape:  {0}'.format(test_labels.shape))"
   ]
  },
  {
   "cell_type": "markdown",
   "metadata": {},
   "source": [
    "# Load Custom Conversion Data"
   ]
  },
  {
   "cell_type": "code",
   "execution_count": 3,
   "metadata": {
    "collapsed": false
   },
   "outputs": [
    {
     "name": "stdout",
     "output_type": "stream",
     "text": [
      "Custom Conversion training shape: (7326, 640)\n",
      "Custom Conversion testing shape:  (2603, 640)\n"
     ]
    }
   ],
   "source": [
    "train_CustGray_2d = np.load('{0}/train_CustGray_2d.dat'.format(directory))\n",
    "test_CustGray_2d = np.load('{0}/test_CustGray_2d.dat'.format(directory))\n",
    "print('Custom Conversion training shape: {0}'.format(train_CustGray_2d.shape))\n",
    "print('Custom Conversion testing shape:  {0}'.format(test_CustGray_2d.shape))"
   ]
  },
  {
   "cell_type": "markdown",
   "metadata": {},
   "source": [
    "# Load Otsu's Binarization Threshold Data"
   ]
  },
  {
   "cell_type": "code",
   "execution_count": 4,
   "metadata": {
    "collapsed": false
   },
   "outputs": [
    {
     "name": "stdout",
     "output_type": "stream",
     "text": [
      "Otsu training shape: (7326, 640)\n",
      "Otsu testing shape:  (2603, 640)\n"
     ]
    }
   ],
   "source": [
    "train_OBT_2d = np.load('{0}/train_OBT_2d.dat'.format(directory))\n",
    "test_OBT_2d = np.load('{0}/test_OBT_2d.dat'.format(directory))\n",
    "print('Otsu training shape: {0}'.format(train_OBT_2d.shape))\n",
    "print('Otsu testing shape:  {0}'.format(test_OBT_2d.shape))"
   ]
  },
  {
   "cell_type": "markdown",
   "metadata": {},
   "source": [
    "# Load Adaptive Mean Threshold Data"
   ]
  },
  {
   "cell_type": "code",
   "execution_count": 5,
   "metadata": {
    "collapsed": false
   },
   "outputs": [
    {
     "name": "stdout",
     "output_type": "stream",
     "text": [
      "Adaptive mean training shape: (7326, 640)\n",
      "Adaptive mean testing shape:  (2603, 640)\n"
     ]
    }
   ],
   "source": [
    "train_AMT_2d = np.load('{0}/train_AMT_2d.dat'.format(directory))\n",
    "test_AMT_2d = np.load('{0}/test_AMT_2d.dat'.format(directory))\n",
    "print('Adaptive mean training shape: {0}'.format(train_AMT_2d.shape))\n",
    "print('Adaptive mean testing shape:  {0}'.format(test_AMT_2d.shape))"
   ]
  },
  {
   "cell_type": "markdown",
   "metadata": {},
   "source": [
    "# Load Adaptive Gaussian Threshold Data"
   ]
  },
  {
   "cell_type": "code",
   "execution_count": 6,
   "metadata": {
    "collapsed": false
   },
   "outputs": [
    {
     "name": "stdout",
     "output_type": "stream",
     "text": [
      "Adaptive Gaussian training shape: (7326, 640)\n",
      "Adaptive Gaussian testing shape:  (2603, 640)\n"
     ]
    }
   ],
   "source": [
    "train_AGT_2d = np.load('{0}/train_AGT_2d.dat'.format(directory))\n",
    "test_AGT_2d = np.load('{0}/test_AGT_2d.dat'.format(directory))\n",
    "print('Adaptive Gaussian training shape: {0}'.format(train_AGT_2d.shape))\n",
    "print('Adaptive Gaussian testing shape:  {0}'.format(test_AGT_2d.shape))"
   ]
  },
  {
   "cell_type": "markdown",
   "metadata": {},
   "source": [
    "# Load Principle Component Analysis Data"
   ]
  },
  {
   "cell_type": "code",
   "execution_count": 7,
   "metadata": {
    "collapsed": false
   },
   "outputs": [
    {
     "name": "stdout",
     "output_type": "stream",
     "text": [
      "PCA training shape: (7326, 40)\n",
      "PCA testing shape:  (2603, 40)\n"
     ]
    }
   ],
   "source": [
    "train_PCA_2d = np.load('{0}/train_PCA_2d.dat'.format(directory))\n",
    "test_PCA_2d = np.load('{0}/test_PCA_2d.dat'.format(directory))\n",
    "print('PCA training shape: {0}'.format(train_PCA_2d.shape))\n",
    "print('PCA testing shape:  {0}'.format(test_PCA_2d.shape))"
   ]
  },
  {
   "cell_type": "markdown",
   "metadata": {},
   "source": [
    "# Lists of Datasets"
   ]
  },
  {
   "cell_type": "code",
   "execution_count": 8,
   "metadata": {
    "collapsed": true
   },
   "outputs": [],
   "source": [
    "names = ['Cust', 'OBT', 'AMT', 'AGT', 'PCA']\n",
    "l_train = [train_CustGray_2d, train_OBT_2d, train_AMT_2d, train_AGT_2d, train_PCA_2d]\n",
    "l_test = [test_CustGray_2d, test_OBT_2d, test_AMT_2d, test_AGT_2d, test_PCA_2d]\n",
    "overall_dict = {}"
   ]
  },
  {
   "cell_type": "markdown",
   "metadata": {},
   "source": [
    "# Visualize Important Pixels"
   ]
  },
  {
   "cell_type": "code",
   "execution_count": 9,
   "metadata": {
    "collapsed": false
   },
   "outputs": [],
   "source": [
    "img_dir = 'imgs'\n",
    "if not os.path.exists(img_dir):\n",
    "    os.makedirs(img_dir)\n",
    "    \n",
    "def important_pixels(mdl, save_img, ht=32, wd=20):\n",
    "    '''\n",
    "    source: http://scikit-learn.org/stable/auto_examples/ensemble/plot_forest_importances_faces. \\\n",
    "                            html#example-ensemble-plot-forest-importances-faces-py\n",
    "    '''\n",
    "    importances = mdl.feature_importances_\n",
    "    try:\n",
    "        importances = importances.reshape(ht,wd)\n",
    "\n",
    "        # Plot pixel importances\n",
    "        plt.matshow(importances, cmap=plt.cm.hot)\n",
    "        plt.axis('off')\n",
    "        plt.savefig('{0}/{1}'.format(img_dir, save_img), bbox_inches='tight')\n",
    "    except:\n",
    "        pass"
   ]
  },
  {
   "cell_type": "markdown",
   "metadata": {},
   "source": [
    "# Model Folder"
   ]
  },
  {
   "cell_type": "code",
   "execution_count": 39,
   "metadata": {
    "collapsed": true
   },
   "outputs": [],
   "source": [
    "mdl_dir = 'models'\n",
    "if not os.path.exists(mdl_dir):\n",
    "    os.makedirs(mdl_dir)"
   ]
  },
  {
   "cell_type": "markdown",
   "metadata": {},
   "source": [
    "# Ada Boost Classifier"
   ]
  },
  {
   "cell_type": "code",
   "execution_count": 40,
   "metadata": {
    "collapsed": false
   },
   "outputs": [],
   "source": [
    "from sklearn.ensemble import AdaBoostClassifier\n",
    "\n",
    "# Attributes\n",
    "# estimators_ : list of classifiers\n",
    "# classes_ : array of shape = [n_classes]\n",
    "# n_classes_ : int\n",
    "# estimator_weights_ : array of floats\n",
    "# estimator_errors_ : array of floats\n",
    "# feature_importances_ : array of shape = [n_features]\n",
    "\n",
    "ab_dict = {}\n",
    "\n",
    "for i,dataset in enumerate(l_train):\n",
    "    n_estimators=50\n",
    "    \n",
    "    ab_clf = AdaBoostClassifier(base_estimator=None, n_estimators=n_estimators, learning_rate=1.0, \n",
    "                                 algorithm='SAMME.R', random_state=None)\n",
    "    # cross-validation training score\n",
    "    scores = cross_val_score(ab_clf, dataset, train_labels)\n",
    "    \n",
    "    # append results to dictionary\n",
    "    ab_dict[('ada_boost_{0}'.format(names[i]),n_estimators)] = scores.mean()*100\n",
    "    \n",
    "    # models - save to disk for later use without re-running\n",
    "    ab_mdl = ab_clf.fit(dataset, train_labels) \n",
    "    \n",
    "    with open('{0}/ada_boost_{1}.pkl'.format(mdl_dir, names[i]), 'wb') as f:\n",
    "        pickle.dump(ab_mdl, f)  \n",
    "    \n",
    "    # un-comment to get pixel importance images\n",
    "    # important_pixels(ab_mdl, 'ada_boost_{0}'.format(names[i]))"
   ]
  },
  {
   "cell_type": "code",
   "execution_count": 41,
   "metadata": {
    "collapsed": false
   },
   "outputs": [
    {
     "data": {
      "text/plain": [
       "{('ada_boost_AGT', 50): 19.601571674291097,\n",
       " ('ada_boost_AMT', 50): 19.901917264897509,\n",
       " ('ada_boost_Cust', 50): 20.760998576551458,\n",
       " ('ada_boost_OBT', 50): 20.48886398197746,\n",
       " ('ada_boost_PCA', 50): 28.022917438729621}"
      ]
     },
     "execution_count": 41,
     "metadata": {},
     "output_type": "execute_result"
    }
   ],
   "source": [
    "overall_dict['ada_boost'] = ab_dict\n",
    "ab_dict"
   ]
  },
  {
   "cell_type": "markdown",
   "metadata": {},
   "source": [
    "# Bagging Classifier"
   ]
  },
  {
   "cell_type": "code",
   "execution_count": 42,
   "metadata": {
    "collapsed": true
   },
   "outputs": [],
   "source": [
    "from sklearn.ensemble import BaggingClassifier\n",
    "\n",
    "# Attributes\n",
    "# base_estimator_ : list of estimators\n",
    "# estimators_ : list of estimators\n",
    "# estimators_samples_ : list of arrays\n",
    "# estimators_features_ : list of arrays\n",
    "# classes_ : array of shape = [n_classes]\n",
    "# n_classes_ : int or list\n",
    "# oob_score_ : float\n",
    "# oob_decision_function_ : array of shape = [n_samples, n_classes]\n",
    "\n",
    "bag_dict = {}\n",
    "\n",
    "for i,dataset in enumerate(l_train):\n",
    "    bag_clf = BaggingClassifier(base_estimator=None, n_estimators=10, max_samples=1.0, max_features=1.0, \n",
    "                                bootstrap=True, bootstrap_features=False, oob_score=False, warm_start=False, \n",
    "                                n_jobs=-1, random_state=None, verbose=0)\n",
    "    # cross-validation training score\n",
    "    scores = cross_val_score(bag_clf, dataset, train_labels)\n",
    "    \n",
    "    # append results to dictionary\n",
    "    bag_dict['bagging_{0}'.format(names[i])] = scores.mean()*100\n",
    "    \n",
    "    # models - save to disk for later use without re-running\n",
    "    bag_mdl = bag_clf.fit(dataset, train_labels) \n",
    "    \n",
    "    with open('{0}/bagging_{1}.pkl'.format(mdl_dir, names[i]), 'wb') as f:\n",
    "        pickle.dump(bag_mdl, f)  "
   ]
  },
  {
   "cell_type": "code",
   "execution_count": 43,
   "metadata": {
    "collapsed": false
   },
   "outputs": [
    {
     "data": {
      "text/plain": [
       "{'bagging_AGT': 51.337489766195624,\n",
       " 'bagging_AMT': 57.490501084915699,\n",
       " 'bagging_Cust': 45.236659988408839,\n",
       " 'bagging_OBT': 60.100031962135027,\n",
       " 'bagging_PCA': 46.915530824940063}"
      ]
     },
     "execution_count": 43,
     "metadata": {},
     "output_type": "execute_result"
    }
   ],
   "source": [
    "overall_dict['bagging'] = bag_dict\n",
    "bag_dict"
   ]
  },
  {
   "cell_type": "markdown",
   "metadata": {},
   "source": [
    "# Gradient Boosting Classifier - TAKES A LONG TIME TO RUN"
   ]
  },
  {
   "cell_type": "code",
   "execution_count": 55,
   "metadata": {
    "collapsed": false
   },
   "outputs": [],
   "source": [
    "from sklearn.ensemble import GradientBoostingClassifier\n",
    "\n",
    "# Attributes\n",
    "# feature_importances_ : array, shape = [n_features]\n",
    "# oob_improvement_ : array, shape = [n_estimators]\n",
    "# train_score_ : array, shape = [n_estimators]\n",
    "# loss_ : LossFunction\n",
    "# init : BaseEstimator\n",
    "# estimators_ : ndarray of DecisionTreeRegressor, shape = [n_estimators, loss_.K]\n",
    "    \n",
    "gb_dict = {}\n",
    "\n",
    "for i,dataset in enumerate(l_train):\n",
    "    n_estimators=100\n",
    "    gb_clf = GradientBoostingClassifier(loss='deviance', learning_rate=0.1, n_estimators=n_estimators, subsample=1.0, \n",
    "                                     min_samples_split=2, min_samples_leaf=1, min_weight_fraction_leaf=0.0, \n",
    "                                     max_depth=3, init=None, random_state=None, max_features=None, verbose=0, \n",
    "                                     max_leaf_nodes=None, warm_start=False, presort='auto')\n",
    "    # cross-validation training score\n",
    "    scores = cross_val_score(gb_clf, dataset, train_labels)\n",
    "    \n",
    "    # append results to dictionary\n",
    "    gb_dict[('gradient_boost_{0}'.format(names[i]),n_estimators)] = scores.mean()*100\n",
    "    \n",
    "    # models - save to disk for later use without re-running\n",
    "    gb_mdl = gb_clf.fit(dataset, train_labels)\n",
    "    \n",
    "    with open('{0}/gradient_boost_{1}.pkl'.format(mdl_dir, names[i]), 'wb') as f:\n",
    "        pickle.dump(gb_mdl, f)  \n",
    "    \n",
    "    # un-comment to get pixel importance images\n",
    "    # important_pixels(gb_mdl, 'gradient_boost_{0}'.format(names[i]))"
   ]
  },
  {
   "cell_type": "code",
   "execution_count": 56,
   "metadata": {
    "collapsed": false
   },
   "outputs": [
    {
     "data": {
      "text/plain": [
       "{('gradient_boost_AGT', 100): 66.214155600971665,\n",
       " ('gradient_boost_AMT', 100): 69.832856602220886,\n",
       " ('gradient_boost_Cust', 100): 48.772484782940104,\n",
       " ('gradient_boost_OBT', 100): 65.874941537370447,\n",
       " ('gradient_boost_PCA', 100): 51.773828521816633}"
      ]
     },
     "execution_count": 56,
     "metadata": {},
     "output_type": "execute_result"
    }
   ],
   "source": [
    "overall_dict['gradient_boost'] = gb_dict\n",
    "gb_dict"
   ]
  },
  {
   "cell_type": "markdown",
   "metadata": {},
   "source": [
    "# Decision Tree Classifier"
   ]
  },
  {
   "cell_type": "code",
   "execution_count": 44,
   "metadata": {
    "collapsed": false,
    "scrolled": false
   },
   "outputs": [],
   "source": [
    "from sklearn.tree import DecisionTreeClassifier\n",
    "\n",
    "# classes_ : array of shape = [n_classes] or a list of such arrays\n",
    "# feature_importances_ : array of shape = [n_features]\n",
    "# max_features_ : int,\n",
    "# n_classes_ : int or list\n",
    "# n_features_ : int\n",
    "# n_outputs_ : int\n",
    "# tree_ : Tree object\n",
    "\n",
    "dtr_dict = {}\n",
    "\n",
    "for i,dataset in enumerate(l_train):\n",
    "    dtr_clf = DecisionTreeClassifier(criterion='gini', splitter='best', max_depth=None, min_samples_split=2, \n",
    "                            min_samples_leaf=1, min_weight_fraction_leaf=0.0, max_features=None, random_state=None, \n",
    "                            max_leaf_nodes=None, class_weight=None, presort=False)\n",
    "\n",
    "    # cross-validation training score\n",
    "    scores = cross_val_score(dtr_clf, dataset, train_labels)\n",
    "    \n",
    "    # append results to dictionary\n",
    "    dtr_dict['decision_tree_{0}'.format(names[i])] = scores.mean()*100\n",
    "    \n",
    "    # models - save to disk for later use without re-running\n",
    "    dtr_mdl = dtr_clf.fit(dataset, train_labels)\n",
    "    \n",
    "    with open('{0}/decision_tree_{1}.pkl'.format(mdl_dir, names[i]), 'wb') as f:\n",
    "        pickle.dump(dtr_mdl, f)  \n",
    "    \n",
    "    # un-comment to get pixel importance images\n",
    "    # important_pixels(dtr_mdl, 'decision_tree{0}'.format(names[i]))"
   ]
  },
  {
   "cell_type": "code",
   "execution_count": 45,
   "metadata": {
    "collapsed": false
   },
   "outputs": [
    {
     "data": {
      "text/plain": [
       "{'decision_tree_AGT': 36.377229241488344,\n",
       " 'decision_tree_AMT': 40.580427748473205,\n",
       " 'decision_tree_Cust': 32.637444375005117,\n",
       " 'decision_tree_OBT': 45.659452625184919,\n",
       " 'decision_tree_PCA': 33.360936134116564}"
      ]
     },
     "execution_count": 45,
     "metadata": {},
     "output_type": "execute_result"
    }
   ],
   "source": [
    "overall_dict['decision_tree'] = dtr_dict\n",
    "dtr_dict"
   ]
  },
  {
   "cell_type": "markdown",
   "metadata": {},
   "source": [
    "# Extra Trees Classifier"
   ]
  },
  {
   "cell_type": "code",
   "execution_count": 46,
   "metadata": {
    "collapsed": false
   },
   "outputs": [],
   "source": [
    "from sklearn.ensemble import ExtraTreesClassifier\n",
    "\n",
    "etr_dict = {}\n",
    "\n",
    "for i,dataset in enumerate(l_train):\n",
    "    \n",
    "    etr_clf = ExtraTreesClassifier(n_estimators=10, criterion='gini', max_depth=None, min_samples_split=2, \n",
    "                    min_samples_leaf=1, min_weight_fraction_leaf=0.0, max_features='auto', max_leaf_nodes=None, \n",
    "                    bootstrap=False, oob_score=False, n_jobs=-1, random_state=None, verbose=0, warm_start=False, \n",
    "                    class_weight=None)\n",
    "\n",
    "    # cross-validation training score\n",
    "    scores = cross_val_score(etr_clf, dataset, train_labels)\n",
    "    \n",
    "    # append results to dictionary\n",
    "    etr_dict['extra_trees_{0}'.format(names[i])] = scores.mean()*100\n",
    "    \n",
    "    # models - save to disk for later use without re-running\n",
    "    etr_mdl = etr_clf.fit(dataset, train_labels)\n",
    "    \n",
    "    with open('{0}/extra_trees_{1}.pkl'.format(mdl_dir, names[i]), 'wb') as f:\n",
    "        pickle.dump(etr_mdl, f)  \n",
    "    \n",
    "    # un-comment to get pixel importance images\n",
    "    # important_pixels(etr_mdl, 'extra_tree{0}'.format(names[i]))"
   ]
  },
  {
   "cell_type": "code",
   "execution_count": 47,
   "metadata": {
    "collapsed": false
   },
   "outputs": [
    {
     "data": {
      "text/plain": [
       "{'extra_trees_AGT': 51.801369261299577,\n",
       " 'extra_trees_AMT': 57.643004897438551,\n",
       " 'extra_trees_Cust': 44.390668877489368,\n",
       " 'extra_trees_OBT': 60.047451011309469,\n",
       " 'extra_trees_PCA': 39.775958600234702}"
      ]
     },
     "execution_count": 47,
     "metadata": {},
     "output_type": "execute_result"
    }
   ],
   "source": [
    "overall_dict['extra_trees'] = etr_dict\n",
    "etr_dict"
   ]
  },
  {
   "cell_type": "code",
   "execution_count": 48,
   "metadata": {
    "collapsed": false
   },
   "outputs": [
    {
     "name": "stdout",
     "output_type": "stream",
     "text": [
      "             precision    recall  f1-score   support\n",
      "\n",
      "          0       0.43      0.59      0.50       180\n",
      "          1       0.64      0.82      0.72       509\n",
      "          2       0.63      0.63      0.63       394\n",
      "          3       0.56      0.47      0.51       295\n",
      "          4       0.61      0.73      0.66       256\n",
      "          5       0.59      0.51      0.54       231\n",
      "          6       0.56      0.46      0.51       199\n",
      "          7       0.68      0.50      0.58       202\n",
      "          8       0.47      0.30      0.37       175\n",
      "          9       0.53      0.41      0.47       162\n",
      "\n",
      "avg / total       0.59      0.59      0.58      2603\n",
      "\n"
     ]
    }
   ],
   "source": [
    "etr_clf = ExtraTreesClassifier()\n",
    "etr_mdl = etr_clf.fit(train_OBT_2d, train_labels)\n",
    "print(classification_report(test_labels, etr_clf.predict(test_OBT_2d), digits=2))"
   ]
  },
  {
   "cell_type": "markdown",
   "metadata": {},
   "source": [
    "# Random Forrest Classifier"
   ]
  },
  {
   "cell_type": "code",
   "execution_count": 49,
   "metadata": {
    "collapsed": false
   },
   "outputs": [],
   "source": [
    "from sklearn.ensemble import RandomForestClassifier\n",
    "\n",
    "# Attributes\n",
    "# estimators_ : list of DecisionTreeClassifier\n",
    "# classes_ : array of shape = [n_classes] or a list of such arrays\n",
    "# n_classes_ : int or list\n",
    "# n_features_ : int\n",
    "# n_outputs_ : int\n",
    "# feature_importances_ : array of shape = [n_features]\n",
    "# oob_score_ : float\n",
    "# oob_decision_function_ : array of shape = [n_samples, n_classes]\n",
    "    \n",
    "rf_dict = {}\n",
    "\n",
    "for i,dataset in enumerate(l_train):\n",
    "    rf_clf = RandomForestClassifier(n_estimators=10, criterion='gini', max_depth=None, min_samples_split=2, \n",
    "                                min_samples_leaf=1, min_weight_fraction_leaf=0.0, max_features='auto', \n",
    "                                max_leaf_nodes=None, bootstrap=True, oob_score=False, n_jobs=-1, random_state=None, \n",
    "                                verbose=0, warm_start=False, class_weight=None)\n",
    "\n",
    "    # cross-validation training score\n",
    "    scores = cross_val_score(rf_clf, dataset, train_labels)\n",
    "    \n",
    "    # append results to dictionary\n",
    "    rf_dict['random_forrest_{0}'.format(names[i])] = scores.mean()*100\n",
    "    \n",
    "    # models - save to disk for later use without re-running\n",
    "    rf_mdl = rf_clf.fit(dataset, train_labels)\n",
    "    \n",
    "    with open('{0}/random_forrest_{1}.pkl'.format(mdl_dir, names[i]), 'wb') as f:\n",
    "        pickle.dump(rf_mdl, f)  \n",
    "    \n",
    "    # un-comment to get pixel importance images\n",
    "    # important_pixels(rf_mdl, 'random_forrest{0}'.format(names[i]))"
   ]
  },
  {
   "cell_type": "code",
   "execution_count": 50,
   "metadata": {
    "collapsed": false
   },
   "outputs": [
    {
     "data": {
      "text/plain": [
       "{'random_forrest_AGT': 47.556399994786801,\n",
       " 'random_forrest_AMT': 53.480055026377549,\n",
       " 'random_forrest_Cust': 42.971244069585133,\n",
       " 'random_forrest_OBT': 57.821828551930906,\n",
       " 'random_forrest_PCA': 41.70029597266894}"
      ]
     },
     "execution_count": 50,
     "metadata": {},
     "output_type": "execute_result"
    }
   ],
   "source": [
    "overall_dict['random_forrest'] = rf_dict\n",
    "rf_dict"
   ]
  },
  {
   "cell_type": "markdown",
   "metadata": {},
   "source": [
    "# KNN"
   ]
  },
  {
   "cell_type": "code",
   "execution_count": 51,
   "metadata": {
    "collapsed": false
   },
   "outputs": [],
   "source": [
    "from sklearn.neighbors import KNeighborsClassifier\n",
    "    \n",
    "knn_dict = {}\n",
    "\n",
    "for i,dataset in enumerate(l_train):\n",
    "    knn_clf = KNeighborsClassifier(n_neighbors=5, weights='uniform', algorithm='auto', leaf_size=30, p=2, \n",
    "                                   metric='minkowski', metric_params=None, n_jobs=-1)\n",
    "\n",
    "    # cross-validation training score\n",
    "    scores = cross_val_score(knn_clf, dataset, train_labels)\n",
    "    \n",
    "    # append results to dictionary\n",
    "    knn_dict['kneighbors_{0}'.format(names[i])] = scores.mean()*100\n",
    "    \n",
    "    # models - save to disk for later use without re-running\n",
    "    knn_mdl = knn_clf.fit(dataset, train_labels)\n",
    "    \n",
    "    with open('{0}/kneighbors_{1}.pkl'.format(mdl_dir, names[i]), 'wb') as f:\n",
    "        pickle.dump(knn_mdl, f)  "
   ]
  },
  {
   "cell_type": "code",
   "execution_count": 52,
   "metadata": {
    "collapsed": false
   },
   "outputs": [
    {
     "data": {
      "text/plain": [
       "{'kneighbors_AGT': 60.278115454419712,\n",
       " 'kneighbors_AMT': 63.771514237182359,\n",
       " 'kneighbors_Cust': 44.868008839839568,\n",
       " 'kneighbors_OBT': 56.469231326074706,\n",
       " 'kneighbors_PCA': 61.575175530410156}"
      ]
     },
     "execution_count": 52,
     "metadata": {},
     "output_type": "execute_result"
    }
   ],
   "source": [
    "overall_dict['kneighbors'] = knn_dict\n",
    "knn_dict"
   ]
  },
  {
   "cell_type": "markdown",
   "metadata": {},
   "source": [
    "# SVM Classifier"
   ]
  },
  {
   "cell_type": "code",
   "execution_count": 53,
   "metadata": {
    "collapsed": false
   },
   "outputs": [],
   "source": [
    "from sklearn.svm import SVC\n",
    "\n",
    "svc_dict = {}\n",
    "\n",
    "for i,dataset in enumerate(l_train):\n",
    "    svc_clf = SVC(C=1.0, kernel='rbf', degree=3, gamma='auto', coef0=0.0, shrinking=True, probability=False, \n",
    "                  tol=0.001, cache_size=200, class_weight=None, verbose=False, max_iter=-1, \n",
    "                  decision_function_shape=None)\n",
    "\n",
    "    # cross-validation training score\n",
    "    scores = cross_val_score(svc_clf, dataset, train_labels)\n",
    "    \n",
    "    # append results to dictionary\n",
    "    svc_dict['svc_{0}'.format(names[i])] = scores.mean()*100\n",
    "    \n",
    "    # models - save to disk for later use without re-running\n",
    "    svc_mdl = svc_clf.fit(dataset, train_labels)\n",
    "    \n",
    "    with open('{0}/svc_{1}.pkl'.format(mdl_dir, names[i]), 'wb') as f:\n",
    "        pickle.dump(svc_mdl, f)  "
   ]
  },
  {
   "cell_type": "code",
   "execution_count": 54,
   "metadata": {
    "collapsed": false
   },
   "outputs": [
    {
     "data": {
      "text/plain": [
       "{'svc_AGT': 19.178291874734157,\n",
       " 'svc_AMT': 19.178291874734157,\n",
       " 'svc_Cust': 19.178291874734157,\n",
       " 'svc_OBT': 19.178291874734157,\n",
       " 'svc_PCA': 65.969377416059118}"
      ]
     },
     "execution_count": 54,
     "metadata": {},
     "output_type": "execute_result"
    }
   ],
   "source": [
    "overall_dict['svc'] = svc_dict\n",
    "svc_dict"
   ]
  },
  {
   "cell_type": "markdown",
   "metadata": {},
   "source": [
    "# Logistic Regression Classifier"
   ]
  },
  {
   "cell_type": "code",
   "execution_count": 57,
   "metadata": {
    "collapsed": false
   },
   "outputs": [],
   "source": [
    "from sklearn.linear_model import SGDClassifier\n",
    "\n",
    "logr_dict = {}\n",
    "\n",
    "for i,dataset in enumerate(l_train):\n",
    "    logr_clf = SGDClassifier(loss='hinge', penalty='l2', alpha=0.0001, l1_ratio=0.15, fit_intercept=True, n_iter=5, \n",
    "                             shuffle=True, verbose=0, epsilon=0.1, n_jobs=-1, random_state=None, learning_rate='optimal', \n",
    "                             eta0=0.0, power_t=0.5, class_weight=None, warm_start=False, average=False)\n",
    "\n",
    "    # cross-validation training score\n",
    "    scores = cross_val_score(logr_clf, dataset, train_labels)\n",
    "    \n",
    "    # append results to dictionary\n",
    "    logr_dict['log_regression_{0}'.format(names[i])] = scores.mean()*100\n",
    "    \n",
    "    # models - save to disk for later use without re-running\n",
    "    logr_mdl = logr_clf.fit(dataset, train_labels)\n",
    "    \n",
    "    with open('{0}/log_regression_{1}.pkl'.format(mdl_dir, names[i]), 'wb') as f:\n",
    "        pickle.dump(logr_mdl, f)  "
   ]
  },
  {
   "cell_type": "code",
   "execution_count": 58,
   "metadata": {
    "collapsed": false
   },
   "outputs": [
    {
     "data": {
      "text/plain": [
       "{'log_regression_AGT': 16.256614649687407,\n",
       " 'log_regression_AMT': 15.024943088028555,\n",
       " 'log_regression_Cust': 11.165977548156027,\n",
       " 'log_regression_OBT': 12.922081680323801,\n",
       " 'log_regression_PCA': 16.626610884751315}"
      ]
     },
     "execution_count": 58,
     "metadata": {},
     "output_type": "execute_result"
    }
   ],
   "source": [
    "overall_dict['log_regression'] = logr_dict\n",
    "logr_dict"
   ]
  },
  {
   "cell_type": "code",
   "execution_count": 59,
   "metadata": {
    "collapsed": false
   },
   "outputs": [
    {
     "data": {
      "text/plain": [
       "[{'svc_AGT': 19.178291874734157,\n",
       "  'svc_AMT': 19.178291874734157,\n",
       "  'svc_Cust': 19.178291874734157,\n",
       "  'svc_OBT': 19.178291874734157,\n",
       "  'svc_PCA': 65.969377416059118},\n",
       " {'bagging_AGT': 51.337489766195624,\n",
       "  'bagging_AMT': 57.490501084915699,\n",
       "  'bagging_Cust': 45.236659988408839,\n",
       "  'bagging_OBT': 60.100031962135027,\n",
       "  'bagging_PCA': 46.915530824940063},\n",
       " {('ada_boost_AGT', 50): 19.601571674291097,\n",
       "  ('ada_boost_AMT', 50): 19.901917264897509,\n",
       "  ('ada_boost_Cust', 50): 20.760998576551458,\n",
       "  ('ada_boost_OBT', 50): 20.48886398197746,\n",
       "  ('ada_boost_PCA', 50): 28.022917438729621},\n",
       " {'random_forrest_AGT': 47.556399994786801,\n",
       "  'random_forrest_AMT': 53.480055026377549,\n",
       "  'random_forrest_Cust': 42.971244069585133,\n",
       "  'random_forrest_OBT': 57.821828551930906,\n",
       "  'random_forrest_PCA': 41.70029597266894},\n",
       " {('gradient_boost_AGT', 100): 66.214155600971665,\n",
       "  ('gradient_boost_AMT', 100): 69.832856602220886,\n",
       "  ('gradient_boost_Cust', 100): 48.772484782940104,\n",
       "  ('gradient_boost_OBT', 100): 65.874941537370447,\n",
       "  ('gradient_boost_PCA', 100): 51.773828521816633},\n",
       " {'kneighbors_AGT': 60.278115454419712,\n",
       "  'kneighbors_AMT': 63.771514237182359,\n",
       "  'kneighbors_Cust': 44.868008839839568,\n",
       "  'kneighbors_OBT': 56.469231326074706,\n",
       "  'kneighbors_PCA': 61.575175530410156},\n",
       " {'extra_trees_AGT': 51.801369261299577,\n",
       "  'extra_trees_AMT': 57.643004897438551,\n",
       "  'extra_trees_Cust': 44.390668877489368,\n",
       "  'extra_trees_OBT': 60.047451011309469,\n",
       "  'extra_trees_PCA': 39.775958600234702},\n",
       " {'decision_tree_AGT': 36.377229241488344,\n",
       "  'decision_tree_AMT': 40.580427748473205,\n",
       "  'decision_tree_Cust': 32.637444375005117,\n",
       "  'decision_tree_OBT': 45.659452625184919,\n",
       "  'decision_tree_PCA': 33.360936134116564},\n",
       " {'log_regression_AGT': 16.256614649687407,\n",
       "  'log_regression_AMT': 15.024943088028555,\n",
       "  'log_regression_Cust': 11.165977548156027,\n",
       "  'log_regression_OBT': 12.922081680323801,\n",
       "  'log_regression_PCA': 16.626610884751315}]"
      ]
     },
     "execution_count": 59,
     "metadata": {},
     "output_type": "execute_result"
    }
   ],
   "source": [
    "list(overall_dict.values())"
   ]
  },
  {
   "cell_type": "code",
   "execution_count": 197,
   "metadata": {
    "collapsed": false
   },
   "outputs": [],
   "source": [
    "# get model names\n",
    "mdls = [k for k,v in overall_dict.items()]\n",
    "\n",
    "# get cross fold scores for each model\n",
    "lst_cnts = [[v for k,v in overall_dict[mdl].items()] for mdl in mdls]\n",
    "\n",
    "# extended names for readability\n",
    "names_ext = ['Custom', 'Otsu', 'Adapt. Mean', 'Adapt. Gaussian', 'PCA']"
   ]
  },
  {
   "cell_type": "code",
   "execution_count": 196,
   "metadata": {
    "collapsed": false
   },
   "outputs": [
    {
     "data": {
      "image/png": "[encoded data removed]",
      "text/plain": [
       "<matplotlib.figure.Figure at 0x1134516a0>"
      ]
     },
     "metadata": {},
     "output_type": "display_data"
    }
   ],
   "source": [
    "# colors\n",
    "sns.set_palette(\"hot\")\n",
    "colors = sns.color_palette('hot',9)\n",
    "\n",
    "# make figure\n",
    "fig = plt.figure(figsize=(20,12))\n",
    "ax = fig.add_subplot(111)\n",
    "\n",
    "# spacing/size\n",
    "width = 0.1\n",
    "steps = [-0.4, -0.3, -0.2, -0.1, 0, 0.1, 0.2, 0.3, 0.4]\n",
    "pos = []\n",
    "for j in steps:\n",
    "    temp = []\n",
    "    for k in range(1,6):\n",
    "        temp.append(k+j)\n",
    "    pos.append(temp)\n",
    "pos\n",
    "\n",
    "# plots\n",
    "for i in range(9):\n",
    "    plt.bar(pos[i], lst_cnts[i], width=width, align='center', color=colors[i], alpha=0.8, edgecolor='w', \n",
    "            label=mdls[i])\n",
    "\n",
    "# labels/titles\n",
    "plt.legend(loc=\"best\")\n",
    "plt.xlabel('Threshold Technique')\n",
    "plt.ylabel('CFV Score')\n",
    "plt.title('Accuracy by Model and Threshold')\n",
    "\n",
    "ticks = range(1,6)\n",
    "plt.xlim(0.5,5.5)\n",
    "plt.xticks(ticks, names_ext)\n",
    "plt.ylim(0,100)\n",
    "\n",
    "# remove border\n",
    "ax.spines[\"top\"].set_visible(False)  \n",
    "ax.spines[\"right\"].set_visible(False) \n",
    "ax.spines[\"bottom\"].set_visible(False) \n",
    "ax.spines[\"left\"].set_visible(False)\n",
    "\n",
    "# show grid\n",
    "ax.yaxis.grid(True) \n",
    "\n",
    "# plot that biddy\n",
    "plt.tight_layout()\n",
    "_ = plt.show()"
   ]
  },
  {
   "cell_type": "code",
   "execution_count": 211,
   "metadata": {
    "collapsed": false
   },
   "outputs": [
    {
     "data": {
      "text/html": [
       "<div>\n",
       "<table border=\"1\" class=\"dataframe\">\n",
       "  <thead>\n",
       "    <tr style=\"text-align: right;\">\n",
       "      <th></th>\n",
       "      <th>ada_boost</th>\n",
       "      <th>bagging</th>\n",
       "      <th>decision_tree</th>\n",
       "      <th>extra_trees</th>\n",
       "      <th>gradient_boost</th>\n",
       "      <th>kneighbors</th>\n",
       "      <th>log_regression</th>\n",
       "      <th>random_forrest</th>\n",
       "      <th>svc</th>\n",
       "    </tr>\n",
       "  </thead>\n",
       "  <tbody>\n",
       "    <tr>\n",
       "      <th>AGT</th>\n",
       "      <td>19.901917</td>\n",
       "      <td>46.915531</td>\n",
       "      <td>40.580428</td>\n",
       "      <td>51.801369</td>\n",
       "      <td>65.874942</td>\n",
       "      <td>60.278115</td>\n",
       "      <td>16.626611</td>\n",
       "      <td>57.821829</td>\n",
       "      <td>19.178292</td>\n",
       "    </tr>\n",
       "    <tr>\n",
       "      <th>AMT</th>\n",
       "      <td>28.022917</td>\n",
       "      <td>51.337490</td>\n",
       "      <td>36.377229</td>\n",
       "      <td>44.390669</td>\n",
       "      <td>51.773829</td>\n",
       "      <td>44.868009</td>\n",
       "      <td>15.024943</td>\n",
       "      <td>41.700296</td>\n",
       "      <td>65.969377</td>\n",
       "    </tr>\n",
       "    <tr>\n",
       "      <th>Cust</th>\n",
       "      <td>20.760999</td>\n",
       "      <td>45.236660</td>\n",
       "      <td>45.659453</td>\n",
       "      <td>57.643005</td>\n",
       "      <td>66.214156</td>\n",
       "      <td>61.575176</td>\n",
       "      <td>12.922082</td>\n",
       "      <td>47.556400</td>\n",
       "      <td>19.178292</td>\n",
       "    </tr>\n",
       "    <tr>\n",
       "      <th>OBT</th>\n",
       "      <td>20.488864</td>\n",
       "      <td>57.490501</td>\n",
       "      <td>32.637444</td>\n",
       "      <td>39.775959</td>\n",
       "      <td>69.832857</td>\n",
       "      <td>63.771514</td>\n",
       "      <td>16.256615</td>\n",
       "      <td>42.971244</td>\n",
       "      <td>19.178292</td>\n",
       "    </tr>\n",
       "    <tr>\n",
       "      <th>PCA</th>\n",
       "      <td>19.601572</td>\n",
       "      <td>60.100032</td>\n",
       "      <td>33.360936</td>\n",
       "      <td>60.047451</td>\n",
       "      <td>48.772485</td>\n",
       "      <td>56.469231</td>\n",
       "      <td>11.165978</td>\n",
       "      <td>53.480055</td>\n",
       "      <td>19.178292</td>\n",
       "    </tr>\n",
       "  </tbody>\n",
       "</table>\n",
       "</div>"
      ],
      "text/plain": [
       "      ada_boost    bagging  decision_tree  extra_trees  gradient_boost  \\\n",
       "AGT   19.901917  46.915531      40.580428    51.801369       65.874942   \n",
       "AMT   28.022917  51.337490      36.377229    44.390669       51.773829   \n",
       "Cust  20.760999  45.236660      45.659453    57.643005       66.214156   \n",
       "OBT   20.488864  57.490501      32.637444    39.775959       69.832857   \n",
       "PCA   19.601572  60.100032      33.360936    60.047451       48.772485   \n",
       "\n",
       "      kneighbors  log_regression  random_forrest        svc  \n",
       "AGT    60.278115       16.626611       57.821829  19.178292  \n",
       "AMT    44.868009       15.024943       41.700296  65.969377  \n",
       "Cust   61.575176       12.922082       47.556400  19.178292  \n",
       "OBT    63.771514       16.256615       42.971244  19.178292  \n",
       "PCA    56.469231       11.165978       53.480055  19.178292  "
      ]
     },
     "execution_count": 211,
     "metadata": {},
     "output_type": "execute_result"
    }
   ],
   "source": [
    "df = pd.DataFrame(overall_dict)\n",
    "df"
   ]
  },
  {
   "cell_type": "code",
   "execution_count": 240,
   "metadata": {
    "collapsed": false
   },
   "outputs": [
    {
     "data": {
      "image/png": "[encoded data removed]",
      "text/plain": [
       "<matplotlib.figure.Figure at 0x1135a3780>"
      ]
     },
     "metadata": {},
     "output_type": "display_data"
    }
   ],
   "source": [
    "# colors\n",
    "sns.set_palette(\"hot\")\n",
    "colors = sns.color_palette('hot',9)\n",
    "\n",
    "# make figure\n",
    "fig = plt.figure(figsize=(20,12))\n",
    "ax = fig.add_subplot(111)\n",
    "\n",
    "# plots\n",
    "ax = sns.heatmap(df, annot=True, cmap=\"hot_r\", alpha=0.8, linewidths=.1, vmin=0, vmax=80)\n",
    "\n",
    "# labels/titles\n",
    "plt.title('Accuracy by Model and Threshold')\n",
    "\n",
    "# remove border\n",
    "ax.spines[\"top\"].set_visible(False)  \n",
    "ax.spines[\"right\"].set_visible(False) \n",
    "ax.spines[\"bottom\"].set_visible(False) \n",
    "ax.spines[\"left\"].set_visible(False)\n",
    "\n",
    "# show grid\n",
    "ax.yaxis.grid(False) \n",
    "\n",
    "# plot that biddy\n",
    "plt.tight_layout()\n",
    "_ = plt.show()"
   ]
  },
  {
   "cell_type": "code",
   "execution_count": null,
   "metadata": {
    "collapsed": true
   },
   "outputs": [],
   "source": []
  }
 ],
 "metadata": {
  "anaconda-cloud": {},
  "kernelspec": {
   "display_name": "Python [Root]",
   "language": "python",
   "name": "Python [Root]"
  },
  "language_info": {
   "codemirror_mode": {
    "name": "ipython",
    "version": 3
   },
   "file_extension": ".py",
   "mimetype": "text/x-python",
   "name": "python",
   "nbconvert_exporter": "python",
   "pygments_lexer": "ipython3",
   "version": "3.5.2"
  }
 },
 "nbformat": 4,
 "nbformat_minor": 0
}
