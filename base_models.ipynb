{
 "cells": [
  {
   "cell_type": "code",
   "execution_count": 2,
   "metadata": {
    "collapsed": false
   },
   "outputs": [],
   "source": [
    "%matplotlib inline\n",
    "import matplotlib.pyplot as plt\n",
    "\n",
    "import os\n",
    "import random\n",
    "import pickle\n",
    "from collections import Counter\n",
    "\n",
    "import pandas as pd\n",
    "import numpy as np\n",
    "\n",
    "from sklearn.grid_search import GridSearchCV\n",
    "from sklearn.cross_validation import cross_val_score\n",
    "from sklearn.metrics import classification_report, confusion_matrix, accuracy_score\n",
    "\n",
    "# default plot stying changes\n",
    "import seaborn as sns\n",
    "sns.set_style(\"white\")\n",
    "sns.set_context(\"poster\", font_scale=1.25, rc={\"lines.linewidth\": 2.5})\n",
    "sns.set_palette(\"Set2\")\n",
    "colors = sns.color_palette('Set2',12)\n",
    "\n",
    "import warnings\n",
    "warnings.filterwarnings('ignore')"
   ]
  },
  {
   "cell_type": "markdown",
   "metadata": {},
   "source": [
    "# Load Pickled Labels"
   ]
  },
  {
   "cell_type": "code",
   "execution_count": 3,
   "metadata": {
    "collapsed": false
   },
   "outputs": [
    {
     "name": "stdout",
     "output_type": "stream",
     "text": [
      "Training labels shape: (7326,)\n",
      "Testing labels shape:  (2603,)\n"
     ]
    }
   ],
   "source": [
    "directory = 'generated_data'\n",
    "if not os.path.exists(directory):\n",
    "    os.makedirs(directory)\n",
    "\n",
    "train_labels = np.load('{0}/train_labels.dat'.format(directory))\n",
    "test_labels = np.load('{0}/test_labels.dat'.format(directory))\n",
    "print('Training labels shape: {0}'.format(train_labels.shape))\n",
    "print('Testing labels shape:  {0}'.format(test_labels.shape))"
   ]
  },
  {
   "cell_type": "markdown",
   "metadata": {},
   "source": [
    "# Load Custom Conversion Data"
   ]
  },
  {
   "cell_type": "code",
   "execution_count": 4,
   "metadata": {
    "collapsed": false
   },
   "outputs": [
    {
     "name": "stdout",
     "output_type": "stream",
     "text": [
      "Custom Conversion training shape: (7326, 640)\n",
      "Custom Conversion testing shape:  (2603, 640)\n"
     ]
    }
   ],
   "source": [
    "train_CustGray_2d = np.load('{0}/train_CustGray_2d.dat'.format(directory))\n",
    "test_CustGray_2d = np.load('{0}/test_CustGray_2d.dat'.format(directory))\n",
    "print('Custom Conversion training shape: {0}'.format(train_CustGray_2d.shape))\n",
    "print('Custom Conversion testing shape:  {0}'.format(test_CustGray_2d.shape))"
   ]
  },
  {
   "cell_type": "markdown",
   "metadata": {},
   "source": [
    "# Load Otsu's Binarization Threshold Data"
   ]
  },
  {
   "cell_type": "code",
   "execution_count": 5,
   "metadata": {
    "collapsed": false
   },
   "outputs": [
    {
     "name": "stdout",
     "output_type": "stream",
     "text": [
      "Otsu training shape: (7326, 640)\n",
      "Otsu testing shape:  (2603, 640)\n"
     ]
    }
   ],
   "source": [
    "train_OBT_2d = np.load('{0}/train_OBT_2d.dat'.format(directory))\n",
    "test_OBT_2d = np.load('{0}/test_OBT_2d.dat'.format(directory))\n",
    "print('Otsu training shape: {0}'.format(train_OBT_2d.shape))\n",
    "print('Otsu testing shape:  {0}'.format(test_OBT_2d.shape))"
   ]
  },
  {
   "cell_type": "markdown",
   "metadata": {},
   "source": [
    "# Load Adaptive Mean Threshold Data"
   ]
  },
  {
   "cell_type": "code",
   "execution_count": 6,
   "metadata": {
    "collapsed": false
   },
   "outputs": [
    {
     "name": "stdout",
     "output_type": "stream",
     "text": [
      "Adaptive mean training shape: (7326, 640)\n",
      "Adaptive mean testing shape:  (2603, 640)\n"
     ]
    }
   ],
   "source": [
    "train_AMT_2d = np.load('{0}/train_AMT_2d.dat'.format(directory))\n",
    "test_AMT_2d = np.load('{0}/test_AMT_2d.dat'.format(directory))\n",
    "print('Adaptive mean training shape: {0}'.format(train_AMT_2d.shape))\n",
    "print('Adaptive mean testing shape:  {0}'.format(test_AMT_2d.shape))"
   ]
  },
  {
   "cell_type": "markdown",
   "metadata": {},
   "source": [
    "# Load Adaptive Gaussian Threshold Data"
   ]
  },
  {
   "cell_type": "code",
   "execution_count": 7,
   "metadata": {
    "collapsed": false
   },
   "outputs": [
    {
     "name": "stdout",
     "output_type": "stream",
     "text": [
      "Adaptive Gaussian training shape: (7326, 640)\n",
      "Adaptive Gaussian testing shape:  (2603, 640)\n"
     ]
    }
   ],
   "source": [
    "train_AGT_2d = np.load('{0}/train_AGT_2d.dat'.format(directory))\n",
    "test_AGT_2d = np.load('{0}/test_AGT_2d.dat'.format(directory))\n",
    "print('Adaptive Gaussian training shape: {0}'.format(train_AGT_2d.shape))\n",
    "print('Adaptive Gaussian testing shape:  {0}'.format(test_AGT_2d.shape))"
   ]
  },
  {
   "cell_type": "markdown",
   "metadata": {},
   "source": [
    "# Load Principle Component Analysis Data"
   ]
  },
  {
   "cell_type": "code",
   "execution_count": 8,
   "metadata": {
    "collapsed": false
   },
   "outputs": [
    {
     "name": "stdout",
     "output_type": "stream",
     "text": [
      "PCA training shape: (7326, 40)\n",
      "PCA testing shape:  (2603, 40)\n"
     ]
    }
   ],
   "source": [
    "train_PCA_2d = np.load('{0}/train_PCA_2d.dat'.format(directory))\n",
    "test_PCA_2d = np.load('{0}/test_PCA_2d.dat'.format(directory))\n",
    "print('PCA training shape: {0}'.format(train_PCA_2d.shape))\n",
    "print('PCA testing shape:  {0}'.format(test_PCA_2d.shape))"
   ]
  },
  {
   "cell_type": "markdown",
   "metadata": {},
   "source": [
    "# Lists of Datasets"
   ]
  },
  {
   "cell_type": "code",
   "execution_count": 9,
   "metadata": {
    "collapsed": true
   },
   "outputs": [],
   "source": [
    "names = ['Cust', 'OBT', 'AMT', 'AGT', 'PCA']\n",
    "# extended names for readability\n",
    "names_ext = ['Custom', 'Otsu', 'Adapt. Mean', 'Adapt. Gaussian', 'PCA']\n",
    "l_train = [train_CustGray_2d, train_OBT_2d, train_AMT_2d, train_AGT_2d, train_PCA_2d]\n",
    "l_test = [test_CustGray_2d, test_OBT_2d, test_AMT_2d, test_AGT_2d, test_PCA_2d]\n",
    "overall_dict = {}"
   ]
  },
  {
   "cell_type": "markdown",
   "metadata": {},
   "source": [
    "# Visualize Important Pixels"
   ]
  },
  {
   "cell_type": "code",
   "execution_count": 10,
   "metadata": {
    "collapsed": false
   },
   "outputs": [],
   "source": [
    "img_dir = 'imgs'\n",
    "if not os.path.exists(img_dir):\n",
    "    os.makedirs(img_dir)\n",
    "    \n",
    "def important_pixels(mdl, save_img, ht=32, wd=20):\n",
    "    '''\n",
    "    source: http://scikit-learn.org/stable/auto_examples/ensemble/plot_forest_importances_faces. \\\n",
    "                            html#example-ensemble-plot-forest-importances-faces-py\n",
    "    '''\n",
    "    importances = mdl.feature_importances_\n",
    "    try:\n",
    "        importances = importances.reshape(ht,wd)\n",
    "\n",
    "        # Plot pixel importances\n",
    "        plt.matshow(importances, cmap=plt.cm.hot)\n",
    "        plt.axis('off')\n",
    "        plt.savefig('{0}/{1}'.format(img_dir, save_img), bbox_inches='tight')\n",
    "    except:\n",
    "        pass"
   ]
  },
  {
   "cell_type": "markdown",
   "metadata": {},
   "source": [
    "# Model Folder"
   ]
  },
  {
   "cell_type": "code",
   "execution_count": 11,
   "metadata": {
    "collapsed": true
   },
   "outputs": [],
   "source": [
    "mdl_dir = 'models'\n",
    "if not os.path.exists(mdl_dir):\n",
    "    os.makedirs(mdl_dir)"
   ]
  },
  {
   "cell_type": "markdown",
   "metadata": {},
   "source": [
    "# Ada Boost Classifier"
   ]
  },
  {
   "cell_type": "code",
   "execution_count": 16,
   "metadata": {
    "collapsed": false
   },
   "outputs": [],
   "source": [
    "from sklearn.ensemble import AdaBoostClassifier\n",
    "from sklearn.ensemble import ExtraTreesClassifier\n",
    "\n",
    "# Attributes\n",
    "# estimators_ : list of classifiers\n",
    "# classes_ : array of shape = [n_classes]\n",
    "# n_classes_ : int\n",
    "# estimator_weights_ : array of floats\n",
    "# estimator_errors_ : array of floats\n",
    "# feature_importances_ : array of shape = [n_features]\n",
    "\n",
    "ab_dict = {}\n",
    "\n",
    "for i,dataset in enumerate(l_train):\n",
    "    n_estimators=50\n",
    "    etr_clf = ExtraTreesClassifier()\n",
    "    ab_clf = AdaBoostClassifier(base_estimator=etr_clf, n_estimators=n_estimators, learning_rate=1.0, \n",
    "                                 algorithm='SAMME.R', random_state=None)\n",
    "    # cross-validation training score\n",
    "    scores = cross_val_score(ab_clf, dataset, train_labels)\n",
    "    \n",
    "    # append results to dictionary\n",
    "    ab_dict[('{0}'.format(names[i]))] = scores.mean()*100\n",
    "    \n",
    "    # models - save to disk for later use without re-running\n",
    "    ab_mdl = ab_clf.fit(dataset, train_labels) \n",
    "    \n",
    "    with open('{0}/ada_boost_{1}.pkl'.format(mdl_dir, names[i]), 'wb') as f:\n",
    "        pickle.dump(ab_mdl, f)  \n",
    "    \n",
    "    # un-comment to get pixel importance images\n",
    "    # important_pixels(ab_mdl, 'ada_boost_{0}'.format(names[i]))"
   ]
  },
  {
   "cell_type": "code",
   "execution_count": 17,
   "metadata": {
    "collapsed": false
   },
   "outputs": [
    {
     "data": {
      "text/plain": [
       "{'AGT': 51.063930984608632,\n",
       " 'AMT': 57.644045667710365,\n",
       " 'Cust': 46.732184452903617,\n",
       " 'OBT': 59.187061543674616,\n",
       " 'PCA': 38.68448706155106}"
      ]
     },
     "execution_count": 17,
     "metadata": {},
     "output_type": "execute_result"
    }
   ],
   "source": [
    "overall_dict['ada_boost'] = ab_dict\n",
    "ab_dict"
   ]
  },
  {
   "cell_type": "markdown",
   "metadata": {},
   "source": [
    "# Bagging Classifier"
   ]
  },
  {
   "cell_type": "code",
   "execution_count": 14,
   "metadata": {
    "collapsed": true
   },
   "outputs": [],
   "source": [
    "from sklearn.ensemble import BaggingClassifier\n",
    "from sklearn.ensemble import ExtraTreesClassifier\n",
    "\n",
    "# Attributes\n",
    "# base_estimator_ : list of estimators\n",
    "# estimators_ : list of estimators\n",
    "# estimators_samples_ : list of arrays\n",
    "# estimators_features_ : list of arrays\n",
    "# classes_ : array of shape = [n_classes]\n",
    "# n_classes_ : int or list\n",
    "# oob_score_ : float\n",
    "# oob_decision_function_ : array of shape = [n_samples, n_classes]\n",
    "\n",
    "bag_dict = {}\n",
    "\n",
    "for i,dataset in enumerate(l_train):\n",
    "    etr_clf = ExtraTreesClassifier()\n",
    "    bag_clf = BaggingClassifier(base_estimator=etr_clf, n_estimators=10, max_samples=1.0, max_features=1.0, \n",
    "                                bootstrap=True, bootstrap_features=False, oob_score=False, warm_start=False, \n",
    "                                n_jobs=-1, random_state=None, verbose=0)\n",
    "    # cross-validation training score\n",
    "    scores = cross_val_score(bag_clf, dataset, train_labels)\n",
    "    \n",
    "    # append results to dictionary\n",
    "    bag_dict['{0}'.format(names[i])] = scores.mean()*100\n",
    "    \n",
    "    # models - save to disk for later use without re-running\n",
    "    bag_mdl = bag_clf.fit(dataset, train_labels) \n",
    "    \n",
    "    with open('{0}/bagging_{1}.pkl'.format(mdl_dir, names[i]), 'wb') as f:\n",
    "        pickle.dump(bag_mdl, f)  "
   ]
  },
  {
   "cell_type": "code",
   "execution_count": 15,
   "metadata": {
    "collapsed": false
   },
   "outputs": [
    {
     "data": {
      "text/plain": [
       "{'AGT': 65.218345288280602,\n",
       " 'AMT': 70.310226078767442,\n",
       " 'Cust': 54.695873541269357,\n",
       " 'OBT': 67.265685168454809,\n",
       " 'PCA': 53.999619688681491}"
      ]
     },
     "execution_count": 15,
     "metadata": {},
     "output_type": "execute_result"
    }
   ],
   "source": [
    "overall_dict['bagging'] = bag_dict\n",
    "bag_dict"
   ]
  },
  {
   "cell_type": "markdown",
   "metadata": {},
   "source": [
    "# Gradient Boosting Classifier - TAKES A LONG TIME TO RUN"
   ]
  },
  {
   "cell_type": "code",
   "execution_count": 18,
   "metadata": {
    "collapsed": false
   },
   "outputs": [],
   "source": [
    "from sklearn.ensemble import GradientBoostingClassifier\n",
    "\n",
    "# Attributes\n",
    "# feature_importances_ : array, shape = [n_features]\n",
    "# oob_improvement_ : array, shape = [n_estimators]\n",
    "# train_score_ : array, shape = [n_estimators]\n",
    "# loss_ : LossFunction\n",
    "# init : BaseEstimator\n",
    "# estimators_ : ndarray of DecisionTreeRegressor, shape = [n_estimators, loss_.K]\n",
    "    \n",
    "gb_dict = {}\n",
    "\n",
    "n_estimators=60\n",
    "\n",
    "# min_samples_split => 0.5%-1% of total values\n",
    "min_samples_split = round(0.005*len(train_labels))\n",
    "\n",
    "# min_samples_leaf => 50\n",
    "min_samples_leaf = 50\n",
    "\n",
    "# max_depth => between 5-8\n",
    "max_depth = 6\n",
    "\n",
    "# max_features => 'sqrt' as a rule of thumb to start\n",
    "max_features = 'sqrt'\n",
    "\n",
    "# subsample => 0.8 to start\n",
    "subsample = 0.5\n",
    "\n",
    "for i,dataset in enumerate(l_train):\n",
    "    gb_clf = GradientBoostingClassifier(loss='deviance', learning_rate=0.1, n_estimators=n_estimators, \n",
    "                                    subsample=subsample, min_samples_split=min_samples_split, \n",
    "                                    min_samples_leaf=min_samples_leaf, max_depth=max_depth, init=None, \n",
    "                                    random_state=None, max_features=max_features, verbose=0, \n",
    "                                    max_leaf_nodes=None, warm_start=False, presort='auto')\n",
    "    # cross-validation training score\n",
    "    scores = cross_val_score(gb_clf, dataset, train_labels)\n",
    "    \n",
    "    # append results to dictionary\n",
    "    gb_dict[('{0}'.format(names[i]))] = scores.mean()*100\n",
    "    \n",
    "    # models - save to disk for later use without re-running\n",
    "    gb_mdl = gb_clf.fit(dataset, train_labels)\n",
    "    \n",
    "    with open('{0}/gradient_boost_{1}.pkl'.format(mdl_dir, names[i]), 'wb') as f:\n",
    "        pickle.dump(gb_mdl, f)  \n",
    "    \n",
    "    # un-comment to get pixel importance images\n",
    "    # important_pixels(gb_mdl, 'gradient_boost_{0}'.format(names[i]))"
   ]
  },
  {
   "cell_type": "code",
   "execution_count": 19,
   "metadata": {
    "collapsed": false
   },
   "outputs": [
    {
     "data": {
      "text/plain": [
       "{'AGT': 65.464717603745342,\n",
       " 'AMT': 69.408971383955802,\n",
       " 'Cust': 51.870162600069747,\n",
       " 'OBT': 66.379149016127187,\n",
       " 'PCA': 54.613333760681691}"
      ]
     },
     "execution_count": 19,
     "metadata": {},
     "output_type": "execute_result"
    }
   ],
   "source": [
    "overall_dict['gradient_boost'] = gb_dict\n",
    "gb_dict"
   ]
  },
  {
   "cell_type": "markdown",
   "metadata": {},
   "source": [
    "# Decision Tree Classifier"
   ]
  },
  {
   "cell_type": "code",
   "execution_count": 20,
   "metadata": {
    "collapsed": false,
    "scrolled": false
   },
   "outputs": [],
   "source": [
    "from sklearn.tree import DecisionTreeClassifier\n",
    "\n",
    "# classes_ : array of shape = [n_classes] or a list of such arrays\n",
    "# feature_importances_ : array of shape = [n_features]\n",
    "# max_features_ : int,\n",
    "# n_classes_ : int or list\n",
    "# n_features_ : int\n",
    "# n_outputs_ : int\n",
    "# tree_ : Tree object\n",
    "\n",
    "dtr_dict = {}\n",
    "\n",
    "for i,dataset in enumerate(l_train):\n",
    "    dtr_clf = DecisionTreeClassifier(criterion='gini', splitter='best', max_depth=None, min_samples_split=2, \n",
    "                            min_samples_leaf=1, min_weight_fraction_leaf=0.0, max_features=None, random_state=None, \n",
    "                            max_leaf_nodes=None, class_weight=None, presort=False)\n",
    "\n",
    "    # cross-validation training score\n",
    "    scores = cross_val_score(dtr_clf, dataset, train_labels)\n",
    "    \n",
    "    # append results to dictionary\n",
    "    dtr_dict['{0}'.format(names[i])] = scores.mean()*100\n",
    "    \n",
    "    # models - save to disk for later use without re-running\n",
    "    dtr_mdl = dtr_clf.fit(dataset, train_labels)\n",
    "    \n",
    "    with open('{0}/decision_tree_{1}.pkl'.format(mdl_dir, names[i]), 'wb') as f:\n",
    "        pickle.dump(dtr_mdl, f)  \n",
    "    \n",
    "    # un-comment to get pixel importance images\n",
    "    # important_pixels(dtr_mdl, 'decision_tree{0}'.format(names[i]))"
   ]
  },
  {
   "cell_type": "code",
   "execution_count": 21,
   "metadata": {
    "collapsed": false
   },
   "outputs": [
    {
     "data": {
      "text/plain": [
       "{'AGT': 36.390422075814911,\n",
       " 'AMT': 39.760955319232316,\n",
       " 'Cust': 32.474010879204435,\n",
       " 'OBT': 45.932191031598293,\n",
       " 'PCA': 33.334837923298174}"
      ]
     },
     "execution_count": 21,
     "metadata": {},
     "output_type": "execute_result"
    }
   ],
   "source": [
    "overall_dict['decision_tree'] = dtr_dict\n",
    "dtr_dict"
   ]
  },
  {
   "cell_type": "markdown",
   "metadata": {},
   "source": [
    "# Extra Trees Classifier"
   ]
  },
  {
   "cell_type": "code",
   "execution_count": 22,
   "metadata": {
    "collapsed": false
   },
   "outputs": [],
   "source": [
    "from sklearn.ensemble import ExtraTreesClassifier\n",
    "\n",
    "etr_dict = {}\n",
    "\n",
    "for i,dataset in enumerate(l_train):\n",
    "    \n",
    "    etr_clf = ExtraTreesClassifier(n_estimators=10, criterion='gini', max_depth=None, min_samples_split=2, \n",
    "                   min_samples_leaf=1, min_weight_fraction_leaf=0.0, max_features='auto', \n",
    "                   max_leaf_nodes=None, bootstrap=False, oob_score=False, n_jobs=-1, random_state=None, \n",
    "                   verbose=0, warm_start=False, class_weight=None)\n",
    "    ''' BETTER!!!\n",
    "    etr_clf = ExtraTreesClassifier(n_estimators=300, criterion='gini', max_depth=None, min_samples_split=4, \n",
    "                    min_samples_leaf=2, min_weight_fraction_leaf=0.0, max_features='sqrt', max_leaf_nodes=None, \n",
    "                    bootstrap=False, oob_score=False, n_jobs=-1, random_state=None, verbose=0, warm_start=False, \n",
    "                    class_weight=None)\n",
    "    '''\n",
    "    # cross-validation training score\n",
    "    scores = cross_val_score(etr_clf, dataset, train_labels)\n",
    "    \n",
    "    # append results to dictionary\n",
    "    etr_dict['{0}'.format(names[i])] = scores.mean()*100\n",
    "    \n",
    "    # models - save to disk for later use without re-running\n",
    "    etr_mdl = etr_clf.fit(dataset, train_labels)\n",
    "    \n",
    "    with open('{0}/extra_trees_{1}.pkl'.format(mdl_dir, names[i]), 'wb') as f:\n",
    "        pickle.dump(etr_mdl, f)  \n",
    "    \n",
    "    # un-comment to get pixel importance images\n",
    "    # important_pixels(etr_mdl, 'extra_tree{0}'.format(names[i]))"
   ]
  },
  {
   "cell_type": "code",
   "execution_count": 23,
   "metadata": {
    "collapsed": false
   },
   "outputs": [
    {
     "data": {
      "text/plain": [
       "{'AGT': 51.71849540308213,\n",
       " 'AMT': 56.837245934870715,\n",
       " 'Cust': 42.874222999999752,\n",
       " 'OBT': 59.486550693830722,\n",
       " 'PCA': 38.765095173008675}"
      ]
     },
     "execution_count": 23,
     "metadata": {},
     "output_type": "execute_result"
    }
   ],
   "source": [
    "overall_dict['extra_trees'] = etr_dict\n",
    "etr_dict"
   ]
  },
  {
   "cell_type": "code",
   "execution_count": 24,
   "metadata": {
    "collapsed": false
   },
   "outputs": [
    {
     "name": "stdout",
     "output_type": "stream",
     "text": [
      "             precision    recall  f1-score   support\n",
      "\n",
      "          0       0.37      0.50      0.43       180\n",
      "          1       0.63      0.82      0.71       509\n",
      "          2       0.60      0.72      0.65       394\n",
      "          3       0.45      0.47      0.46       295\n",
      "          4       0.55      0.53      0.54       256\n",
      "          5       0.54      0.51      0.53       231\n",
      "          6       0.53      0.30      0.38       199\n",
      "          7       0.62      0.53      0.58       202\n",
      "          8       0.51      0.24      0.33       175\n",
      "          9       0.47      0.25      0.32       162\n",
      "\n",
      "avg / total       0.54      0.55      0.53      2603\n",
      "\n"
     ]
    }
   ],
   "source": [
    "etr_clf = ExtraTreesClassifier()\n",
    "etr_mdl = etr_clf.fit(train_AMT_2d, train_labels)\n",
    "print(classification_report(test_labels, etr_clf.predict(test_AMT_2d), digits=2))"
   ]
  },
  {
   "cell_type": "markdown",
   "metadata": {},
   "source": [
    "# Random Forrest Classifier"
   ]
  },
  {
   "cell_type": "code",
   "execution_count": 25,
   "metadata": {
    "collapsed": false
   },
   "outputs": [],
   "source": [
    "from sklearn.ensemble import RandomForestClassifier\n",
    "\n",
    "# Attributes\n",
    "# estimators_ : list of DecisionTreeClassifier\n",
    "# classes_ : array of shape = [n_classes] or a list of such arrays\n",
    "# n_classes_ : int or list\n",
    "# n_features_ : int\n",
    "# n_outputs_ : int\n",
    "# feature_importances_ : array of shape = [n_features]\n",
    "# oob_score_ : float\n",
    "# oob_decision_function_ : array of shape = [n_samples, n_classes]\n",
    "    \n",
    "rf_dict = {}\n",
    "\n",
    "for i,dataset in enumerate(l_train):\n",
    "    rf_clf = RandomForestClassifier(n_estimators=10, criterion='gini', max_depth=None, min_samples_split=2, \n",
    "                                min_samples_leaf=1, min_weight_fraction_leaf=0.0, max_features='auto', \n",
    "                                max_leaf_nodes=None, bootstrap=True, oob_score=False, n_jobs=-1, random_state=None, \n",
    "                                verbose=0, warm_start=False, class_weight=None)\n",
    "\n",
    "    # cross-validation training score\n",
    "    scores = cross_val_score(rf_clf, dataset, train_labels)\n",
    "    \n",
    "    # append results to dictionary\n",
    "    rf_dict['{0}'.format(names[i])] = scores.mean()*100\n",
    "    \n",
    "    # models - save to disk for later use without re-running\n",
    "    rf_mdl = rf_clf.fit(dataset, train_labels)\n",
    "    \n",
    "    with open('{0}/random_forrest_{1}.pkl'.format(mdl_dir, names[i]), 'wb') as f:\n",
    "        pickle.dump(rf_mdl, f)  \n",
    "    \n",
    "    # un-comment to get pixel importance images\n",
    "    # important_pixels(rf_mdl, 'random_forrest{0}'.format(names[i]))"
   ]
  },
  {
   "cell_type": "code",
   "execution_count": 26,
   "metadata": {
    "collapsed": false
   },
   "outputs": [
    {
     "data": {
      "text/plain": [
       "{'AGT': 46.641885897333225,\n",
       " 'AMT': 53.084466579348856,\n",
       " 'Cust': 42.751926690480666,\n",
       " 'OBT': 57.507166177233238,\n",
       " 'PCA': 42.300970542704235}"
      ]
     },
     "execution_count": 26,
     "metadata": {},
     "output_type": "execute_result"
    }
   ],
   "source": [
    "overall_dict['random_forrest'] = rf_dict\n",
    "rf_dict"
   ]
  },
  {
   "cell_type": "markdown",
   "metadata": {},
   "source": [
    "# KNN"
   ]
  },
  {
   "cell_type": "code",
   "execution_count": 27,
   "metadata": {
    "collapsed": false
   },
   "outputs": [],
   "source": [
    "from sklearn.neighbors import KNeighborsClassifier\n",
    "    \n",
    "knn_dict = {}\n",
    "\n",
    "for i,dataset in enumerate(l_train):\n",
    "    knn_clf = KNeighborsClassifier(n_neighbors=5, weights='uniform', algorithm='auto', leaf_size=30, p=2, \n",
    "                                   metric='minkowski', metric_params=None, n_jobs=-1)\n",
    "\n",
    "    # cross-validation training score\n",
    "    scores = cross_val_score(knn_clf, dataset, train_labels)\n",
    "    \n",
    "    # append results to dictionary\n",
    "    knn_dict['{0}'.format(names[i])] = scores.mean()*100\n",
    "    \n",
    "    # models - save to disk for later use without re-running\n",
    "    knn_mdl = knn_clf.fit(dataset, train_labels)\n",
    "    \n",
    "    with open('{0}/kneighbors_{1}.pkl'.format(mdl_dir, names[i]), 'wb') as f:\n",
    "        pickle.dump(knn_mdl, f)  "
   ]
  },
  {
   "cell_type": "code",
   "execution_count": 28,
   "metadata": {
    "collapsed": false
   },
   "outputs": [
    {
     "data": {
      "text/plain": [
       "{'AGT': 60.278115454419712,\n",
       " 'AMT': 63.771514237182359,\n",
       " 'Cust': 44.868008839839568,\n",
       " 'OBT': 56.469231326074706,\n",
       " 'PCA': 61.575175530410156}"
      ]
     },
     "execution_count": 28,
     "metadata": {},
     "output_type": "execute_result"
    }
   ],
   "source": [
    "overall_dict['kneighbors'] = knn_dict\n",
    "knn_dict"
   ]
  },
  {
   "cell_type": "markdown",
   "metadata": {},
   "source": [
    "# SVM Classifier"
   ]
  },
  {
   "cell_type": "code",
   "execution_count": 29,
   "metadata": {
    "collapsed": false
   },
   "outputs": [],
   "source": [
    "from sklearn.svm import SVC\n",
    "\n",
    "svc_dict = {}\n",
    "\n",
    "for i,dataset in enumerate(l_train):\n",
    "    svc_clf = SVC(C=1.0, kernel='rbf', degree=3, gamma='auto', coef0=0.0, shrinking=True, probability=False, \n",
    "                  tol=0.001, cache_size=1000, class_weight=None, verbose=False, max_iter=-1, \n",
    "                  decision_function_shape=None)\n",
    "\n",
    "    # cross-validation training score\n",
    "    scores = cross_val_score(svc_clf, dataset, train_labels)\n",
    "    \n",
    "    # append results to dictionary\n",
    "    svc_dict['{0}'.format(names[i])] = scores.mean()*100\n",
    "    \n",
    "    # models - save to disk for later use without re-running\n",
    "    svc_mdl = svc_clf.fit(dataset, train_labels)\n",
    "    \n",
    "    with open('{0}/svc_{1}.pkl'.format(mdl_dir, names[i]), 'wb') as f:\n",
    "        pickle.dump(svc_mdl, f)  "
   ]
  },
  {
   "cell_type": "code",
   "execution_count": 30,
   "metadata": {
    "collapsed": false
   },
   "outputs": [
    {
     "data": {
      "text/plain": [
       "{'AGT': 19.178291874734157,\n",
       " 'AMT': 19.178291874734157,\n",
       " 'Cust': 19.178291874734157,\n",
       " 'OBT': 19.178291874734157,\n",
       " 'PCA': 65.969377416059118}"
      ]
     },
     "execution_count": 30,
     "metadata": {},
     "output_type": "execute_result"
    }
   ],
   "source": [
    "overall_dict['svc'] = svc_dict\n",
    "svc_dict"
   ]
  },
  {
   "cell_type": "markdown",
   "metadata": {},
   "source": [
    "# Logistic Regression Classifier"
   ]
  },
  {
   "cell_type": "code",
   "execution_count": 37,
   "metadata": {
    "collapsed": false
   },
   "outputs": [],
   "source": [
    "from sklearn.linear_model import SGDClassifier\n",
    "\n",
    "logr_dict = {}\n",
    "\n",
    "for i,dataset in enumerate(l_train):\n",
    "    logr_clf = SGDClassifier(loss='hinge', penalty='l2', alpha=0.0001, l1_ratio=0.15, fit_intercept=True, n_iter=5, \n",
    "                             shuffle=True, verbose=0, epsilon=0.1, n_jobs=-1, random_state=None, learning_rate='optimal', \n",
    "                             eta0=0.0, power_t=0.5, class_weight=None, warm_start=False, average=False)\n",
    "\n",
    "    # cross-validation training score\n",
    "    scores = cross_val_score(logr_clf, dataset, train_labels)\n",
    "    \n",
    "    # append results to dictionary\n",
    "    logr_dict['{0}'.format(names[i])] = scores.mean()*100\n",
    "    \n",
    "    # models - save to disk for later use without re-running\n",
    "    logr_mdl = logr_clf.fit(dataset, train_labels)\n",
    "    \n",
    "    with open('{0}/log_regression_{1}.pkl'.format(mdl_dir, names[i]), 'wb') as f:\n",
    "        pickle.dump(logr_mdl, f)  "
   ]
  },
  {
   "cell_type": "code",
   "execution_count": 38,
   "metadata": {
    "collapsed": false
   },
   "outputs": [
    {
     "data": {
      "text/plain": [
       "{'AGT': 18.620513002833793,\n",
       " 'AMT': 14.949015723477707,\n",
       " 'Cust': 11.328469817144738,\n",
       " 'OBT': 13.913195882428422,\n",
       " 'PCA': 16.87209304298954}"
      ]
     },
     "execution_count": 38,
     "metadata": {},
     "output_type": "execute_result"
    }
   ],
   "source": [
    "overall_dict['log_regression'] = logr_dict\n",
    "logr_dict"
   ]
  },
  {
   "cell_type": "code",
   "execution_count": 39,
   "metadata": {
    "collapsed": false
   },
   "outputs": [
    {
     "data": {
      "text/plain": [
       "[('decision_tree',\n",
       "  {'AGT': 36.390422075814911,\n",
       "   'AMT': 39.760955319232316,\n",
       "   'Cust': 32.474010879204435,\n",
       "   'OBT': 45.932191031598293,\n",
       "   'PCA': 33.334837923298174}),\n",
       " ('bagging',\n",
       "  {'AGT': 65.218345288280602,\n",
       "   'AMT': 70.310226078767442,\n",
       "   'Cust': 54.695873541269357,\n",
       "   'OBT': 67.265685168454809,\n",
       "   'PCA': 53.999619688681491}),\n",
       " ('log_regression',\n",
       "  {'AGT': 18.620513002833793,\n",
       "   'AMT': 14.949015723477707,\n",
       "   'Cust': 11.328469817144738,\n",
       "   'OBT': 13.913195882428422,\n",
       "   'PCA': 16.87209304298954}),\n",
       " ('kneighbors',\n",
       "  {'AGT': 60.278115454419712,\n",
       "   'AMT': 63.771514237182359,\n",
       "   'Cust': 44.868008839839568,\n",
       "   'OBT': 56.469231326074706,\n",
       "   'PCA': 61.575175530410156}),\n",
       " ('gradient_boost',\n",
       "  {'AGT': 65.464717603745342,\n",
       "   'AMT': 69.408971383955802,\n",
       "   'Cust': 51.870162600069747,\n",
       "   'OBT': 66.379149016127187,\n",
       "   'PCA': 54.613333760681691}),\n",
       " ('extra_trees',\n",
       "  {'AGT': 51.71849540308213,\n",
       "   'AMT': 56.837245934870715,\n",
       "   'Cust': 42.874222999999752,\n",
       "   'OBT': 59.486550693830722,\n",
       "   'PCA': 38.765095173008675}),\n",
       " ('ada_boost',\n",
       "  {'AGT': 51.063930984608632,\n",
       "   'AMT': 57.644045667710365,\n",
       "   'Cust': 46.732184452903617,\n",
       "   'OBT': 59.187061543674616,\n",
       "   'PCA': 38.68448706155106}),\n",
       " ('svc',\n",
       "  {'AGT': 19.178291874734157,\n",
       "   'AMT': 19.178291874734157,\n",
       "   'Cust': 19.178291874734157,\n",
       "   'OBT': 19.178291874734157,\n",
       "   'PCA': 65.969377416059118}),\n",
       " ('random_forrest',\n",
       "  {'AGT': 46.641885897333225,\n",
       "   'AMT': 53.084466579348856,\n",
       "   'Cust': 42.751926690480666,\n",
       "   'OBT': 57.507166177233238,\n",
       "   'PCA': 42.300970542704235})]"
      ]
     },
     "execution_count": 39,
     "metadata": {},
     "output_type": "execute_result"
    }
   ],
   "source": [
    "list(overall_dict.items())"
   ]
  },
  {
   "cell_type": "code",
   "execution_count": 40,
   "metadata": {
    "collapsed": false
   },
   "outputs": [],
   "source": [
    "# get model names\n",
    "mdls = [k for k,v in overall_dict.items()]\n",
    "\n",
    "# get cross fold scores for each model\n",
    "lst_cnts = [[v for k,v in overall_dict[mdl].items()] for mdl in mdls]"
   ]
  },
  {
   "cell_type": "code",
   "execution_count": 41,
   "metadata": {
    "collapsed": false
   },
   "outputs": [
    {
     "data": {
      "image/png": "[encoded data removed]",
      "text/plain": [
       "<matplotlib.figure.Figure at 0x104509080>"
      ]
     },
     "metadata": {},
     "output_type": "display_data"
    }
   ],
   "source": [
    "# colors\n",
    "sns.set_palette(\"hot\")\n",
    "colors = sns.color_palette('hot',9)\n",
    "\n",
    "# make figure\n",
    "fig = plt.figure(figsize=(20,12))\n",
    "ax = fig.add_subplot(111)\n",
    "\n",
    "# spacing/size\n",
    "width = 0.1\n",
    "steps = [-0.4, -0.3, -0.2, -0.1, 0, 0.1, 0.2, 0.3, 0.4]\n",
    "pos = []\n",
    "for j in steps:\n",
    "    temp = []\n",
    "    for k in range(1,6):\n",
    "        temp.append(k+j)\n",
    "    pos.append(temp)\n",
    "pos\n",
    "\n",
    "# plots\n",
    "for i in range(9):\n",
    "    plt.bar(pos[i], lst_cnts[i], width=width, align='center', color=colors[i], alpha=0.8, edgecolor='w', \n",
    "            label=mdls[i])\n",
    "\n",
    "# labels/titles\n",
    "plt.legend(loc=\"best\")\n",
    "plt.xlabel('Threshold Technique')\n",
    "plt.ylabel('CFV Score')\n",
    "plt.title('Accuracy by Model and Threshold')\n",
    "\n",
    "ticks = range(1,6)\n",
    "plt.xlim(0.5,5.5)\n",
    "plt.xticks(ticks, names_ext)\n",
    "plt.ylim(0,100)\n",
    "\n",
    "# remove border\n",
    "ax.spines[\"top\"].set_visible(False)  \n",
    "ax.spines[\"right\"].set_visible(False) \n",
    "ax.spines[\"bottom\"].set_visible(False) \n",
    "ax.spines[\"left\"].set_visible(False)\n",
    "\n",
    "# show grid\n",
    "ax.yaxis.grid(True) \n",
    "\n",
    "# plot that biddy\n",
    "plt.tight_layout()\n",
    "_ = plt.show()"
   ]
  },
  {
   "cell_type": "code",
   "execution_count": 46,
   "metadata": {
    "collapsed": false
   },
   "outputs": [
    {
     "data": {
      "text/html": [
       "<div>\n",
       "<table border=\"1\" class=\"dataframe\">\n",
       "  <thead>\n",
       "    <tr style=\"text-align: right;\">\n",
       "      <th></th>\n",
       "      <th>ada_boost</th>\n",
       "      <th>bagging</th>\n",
       "      <th>decision_tree</th>\n",
       "      <th>extra_trees</th>\n",
       "      <th>gradient_boost</th>\n",
       "      <th>kneighbors</th>\n",
       "      <th>log_regression</th>\n",
       "      <th>random_forrest</th>\n",
       "      <th>svc</th>\n",
       "    </tr>\n",
       "  </thead>\n",
       "  <tbody>\n",
       "    <tr>\n",
       "      <th>AGT</th>\n",
       "      <td>51.063931</td>\n",
       "      <td>65.218345</td>\n",
       "      <td>36.390422</td>\n",
       "      <td>51.718495</td>\n",
       "      <td>65.464718</td>\n",
       "      <td>60.278115</td>\n",
       "      <td>18.620513</td>\n",
       "      <td>46.641886</td>\n",
       "      <td>19.178292</td>\n",
       "    </tr>\n",
       "    <tr>\n",
       "      <th>AMT</th>\n",
       "      <td>57.644046</td>\n",
       "      <td>70.310226</td>\n",
       "      <td>39.760955</td>\n",
       "      <td>56.837246</td>\n",
       "      <td>69.408971</td>\n",
       "      <td>63.771514</td>\n",
       "      <td>14.949016</td>\n",
       "      <td>53.084467</td>\n",
       "      <td>19.178292</td>\n",
       "    </tr>\n",
       "    <tr>\n",
       "      <th>Cust</th>\n",
       "      <td>46.732184</td>\n",
       "      <td>54.695874</td>\n",
       "      <td>32.474011</td>\n",
       "      <td>42.874223</td>\n",
       "      <td>51.870163</td>\n",
       "      <td>44.868009</td>\n",
       "      <td>11.328470</td>\n",
       "      <td>42.751927</td>\n",
       "      <td>19.178292</td>\n",
       "    </tr>\n",
       "    <tr>\n",
       "      <th>OBT</th>\n",
       "      <td>59.187062</td>\n",
       "      <td>67.265685</td>\n",
       "      <td>45.932191</td>\n",
       "      <td>59.486551</td>\n",
       "      <td>66.379149</td>\n",
       "      <td>56.469231</td>\n",
       "      <td>13.913196</td>\n",
       "      <td>57.507166</td>\n",
       "      <td>19.178292</td>\n",
       "    </tr>\n",
       "    <tr>\n",
       "      <th>PCA</th>\n",
       "      <td>38.684487</td>\n",
       "      <td>53.999620</td>\n",
       "      <td>33.334838</td>\n",
       "      <td>38.765095</td>\n",
       "      <td>54.613334</td>\n",
       "      <td>61.575176</td>\n",
       "      <td>16.872093</td>\n",
       "      <td>42.300971</td>\n",
       "      <td>65.969377</td>\n",
       "    </tr>\n",
       "  </tbody>\n",
       "</table>\n",
       "</div>"
      ],
      "text/plain": [
       "      ada_boost    bagging  decision_tree  extra_trees  gradient_boost  \\\n",
       "AGT   51.063931  65.218345      36.390422    51.718495       65.464718   \n",
       "AMT   57.644046  70.310226      39.760955    56.837246       69.408971   \n",
       "Cust  46.732184  54.695874      32.474011    42.874223       51.870163   \n",
       "OBT   59.187062  67.265685      45.932191    59.486551       66.379149   \n",
       "PCA   38.684487  53.999620      33.334838    38.765095       54.613334   \n",
       "\n",
       "      kneighbors  log_regression  random_forrest        svc  \n",
       "AGT    60.278115       18.620513       46.641886  19.178292  \n",
       "AMT    63.771514       14.949016       53.084467  19.178292  \n",
       "Cust   44.868009       11.328470       42.751927  19.178292  \n",
       "OBT    56.469231       13.913196       57.507166  19.178292  \n",
       "PCA    61.575176       16.872093       42.300971  65.969377  "
      ]
     },
     "execution_count": 46,
     "metadata": {},
     "output_type": "execute_result"
    }
   ],
   "source": [
    "df = pd.DataFrame(overall_dict)\n",
    "df.to_csv('generated_data/baseline.csv', sep=',')\n",
    "df"
   ]
  },
  {
   "cell_type": "code",
   "execution_count": 44,
   "metadata": {
    "collapsed": false
   },
   "outputs": [
    {
     "data": {
      "image/png": "[encoded data removed]",
      "text/plain": [
       "<matplotlib.figure.Figure at 0x116f7a6a0>"
      ]
     },
     "metadata": {},
     "output_type": "display_data"
    }
   ],
   "source": [
    "# make figure\n",
    "fig = plt.figure(figsize=(20,10))\n",
    "ax = fig.add_subplot(111)\n",
    "\n",
    "# plots\n",
    "ax = sns.heatmap(df, annot=True, cmap=\"hot_r\", alpha=0.8, linewidths=.1, vmin=0, vmax=100)\n",
    "\n",
    "# labels/titles\n",
    "plt.title('Accuracy by Model and Threshold')\n",
    "\n",
    "# remove border\n",
    "ax.spines[\"top\"].set_visible(False)  \n",
    "ax.spines[\"right\"].set_visible(False) \n",
    "ax.spines[\"bottom\"].set_visible(False) \n",
    "ax.spines[\"left\"].set_visible(False)\n",
    "\n",
    "# show grid\n",
    "ax.yaxis.grid(False) \n",
    "\n",
    "# plot that biddy\n",
    "plt.tight_layout()\n",
    "_ = plt.show()"
   ]
  },
  {
   "cell_type": "code",
   "execution_count": null,
   "metadata": {
    "collapsed": true
   },
   "outputs": [],
   "source": []
  }
 ],
 "metadata": {
  "anaconda-cloud": {},
  "kernelspec": {
   "display_name": "Python [Root]",
   "language": "python",
   "name": "Python [Root]"
  },
  "language_info": {
   "codemirror_mode": {
    "name": "ipython",
    "version": 3
   },
   "file_extension": ".py",
   "mimetype": "text/x-python",
   "name": "python",
   "nbconvert_exporter": "python",
   "pygments_lexer": "ipython3",
   "version": "3.5.2"
  }
 },
 "nbformat": 4,
 "nbformat_minor": 0
}
