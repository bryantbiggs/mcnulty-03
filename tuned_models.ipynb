{
 "cells": [
  {
   "cell_type": "code",
   "execution_count": 1,
   "metadata": {
    "collapsed": false
   },
   "outputs": [],
   "source": [
    "%matplotlib inline\n",
    "import matplotlib.pyplot as plt\n",
    "\n",
    "import os\n",
    "import random\n",
    "import pickle\n",
    "from collections import Counter\n",
    "\n",
    "import pandas as pd\n",
    "import numpy as np\n",
    "\n",
    "from sklearn.grid_search import GridSearchCV\n",
    "from sklearn.cross_validation import cross_val_score\n",
    "from sklearn.metrics import classification_report, confusion_matrix, accuracy_score\n",
    "\n",
    "# default plot stying changes\n",
    "import seaborn as sns\n",
    "sns.set_style(\"white\")\n",
    "sns.set_context(\"poster\", font_scale=1.25, rc={\"lines.linewidth\": 2.5})\n",
    "sns.set_palette(\"Set2\")\n",
    "colors = sns.color_palette('Set2',12)\n",
    "\n",
    "import warnings\n",
    "warnings.filterwarnings('ignore')"
   ]
  },
  {
   "cell_type": "markdown",
   "metadata": {},
   "source": [
    "# Load Pickled Labels"
   ]
  },
  {
   "cell_type": "code",
   "execution_count": 2,
   "metadata": {
    "collapsed": false
   },
   "outputs": [
    {
     "name": "stdout",
     "output_type": "stream",
     "text": [
      "Training labels shape: (7326,)\n",
      "Testing labels shape:  (2603,)\n"
     ]
    }
   ],
   "source": [
    "directory = 'generated_data'\n",
    "if not os.path.exists(directory):\n",
    "    os.makedirs(directory)\n",
    "\n",
    "train_labels = np.load('{0}/train_labels.dat'.format(directory))\n",
    "test_labels = np.load('{0}/test_labels.dat'.format(directory))\n",
    "print('Training labels shape: {0}'.format(train_labels.shape))\n",
    "print('Testing labels shape:  {0}'.format(test_labels.shape))"
   ]
  },
  {
   "cell_type": "markdown",
   "metadata": {},
   "source": [
    "# Load Custom Conversion Data"
   ]
  },
  {
   "cell_type": "code",
   "execution_count": 3,
   "metadata": {
    "collapsed": false
   },
   "outputs": [
    {
     "name": "stdout",
     "output_type": "stream",
     "text": [
      "Custom Conversion training shape: (7326, 640)\n",
      "Custom Conversion testing shape:  (2603, 640)\n"
     ]
    }
   ],
   "source": [
    "train_CustGray_2d = np.load('{0}/train_CustGray_2d.dat'.format(directory))\n",
    "test_CustGray_2d = np.load('{0}/test_CustGray_2d.dat'.format(directory))\n",
    "print('Custom Conversion training shape: {0}'.format(train_CustGray_2d.shape))\n",
    "print('Custom Conversion testing shape:  {0}'.format(test_CustGray_2d.shape))"
   ]
  },
  {
   "cell_type": "markdown",
   "metadata": {},
   "source": [
    "# Load Otsu's Binarization Threshold Data"
   ]
  },
  {
   "cell_type": "code",
   "execution_count": 4,
   "metadata": {
    "collapsed": false
   },
   "outputs": [
    {
     "name": "stdout",
     "output_type": "stream",
     "text": [
      "Otsu training shape: (7326, 640)\n",
      "Otsu testing shape:  (2603, 640)\n"
     ]
    }
   ],
   "source": [
    "train_OBT_2d = np.load('{0}/train_OBT_2d.dat'.format(directory))\n",
    "test_OBT_2d = np.load('{0}/test_OBT_2d.dat'.format(directory))\n",
    "print('Otsu training shape: {0}'.format(train_OBT_2d.shape))\n",
    "print('Otsu testing shape:  {0}'.format(test_OBT_2d.shape))"
   ]
  },
  {
   "cell_type": "markdown",
   "metadata": {},
   "source": [
    "# Load Adaptive Mean Threshold Data"
   ]
  },
  {
   "cell_type": "code",
   "execution_count": 5,
   "metadata": {
    "collapsed": false
   },
   "outputs": [
    {
     "name": "stdout",
     "output_type": "stream",
     "text": [
      "Adaptive mean training shape: (7326, 640)\n",
      "Adaptive mean testing shape:  (2603, 640)\n"
     ]
    }
   ],
   "source": [
    "train_AMT_2d = np.load('{0}/train_AMT_2d.dat'.format(directory))\n",
    "test_AMT_2d = np.load('{0}/test_AMT_2d.dat'.format(directory))\n",
    "print('Adaptive mean training shape: {0}'.format(train_AMT_2d.shape))\n",
    "print('Adaptive mean testing shape:  {0}'.format(test_AMT_2d.shape))"
   ]
  },
  {
   "cell_type": "markdown",
   "metadata": {},
   "source": [
    "# Load Adaptive Gaussian Threshold Data"
   ]
  },
  {
   "cell_type": "code",
   "execution_count": 6,
   "metadata": {
    "collapsed": false
   },
   "outputs": [
    {
     "name": "stdout",
     "output_type": "stream",
     "text": [
      "Adaptive Gaussian training shape: (7326, 640)\n",
      "Adaptive Gaussian testing shape:  (2603, 640)\n"
     ]
    }
   ],
   "source": [
    "train_AGT_2d = np.load('{0}/train_AGT_2d.dat'.format(directory))\n",
    "test_AGT_2d = np.load('{0}/test_AGT_2d.dat'.format(directory))\n",
    "print('Adaptive Gaussian training shape: {0}'.format(train_AGT_2d.shape))\n",
    "print('Adaptive Gaussian testing shape:  {0}'.format(test_AGT_2d.shape))"
   ]
  },
  {
   "cell_type": "markdown",
   "metadata": {},
   "source": [
    "# Load Principle Component Analysis Data"
   ]
  },
  {
   "cell_type": "code",
   "execution_count": 7,
   "metadata": {
    "collapsed": false
   },
   "outputs": [
    {
     "name": "stdout",
     "output_type": "stream",
     "text": [
      "PCA training shape: (7326, 40)\n",
      "PCA testing shape:  (2603, 40)\n"
     ]
    }
   ],
   "source": [
    "train_PCA_2d = np.load('{0}/train_PCA_2d.dat'.format(directory))\n",
    "test_PCA_2d = np.load('{0}/test_PCA_2d.dat'.format(directory))\n",
    "print('PCA training shape: {0}'.format(train_PCA_2d.shape))\n",
    "print('PCA testing shape:  {0}'.format(test_PCA_2d.shape))"
   ]
  },
  {
   "cell_type": "markdown",
   "metadata": {},
   "source": [
    "# Lists of Datasets"
   ]
  },
  {
   "cell_type": "code",
   "execution_count": 9,
   "metadata": {
    "collapsed": true
   },
   "outputs": [],
   "source": [
    "names = ['Cust', 'OBT', 'AMT', 'AGT', 'PCA']\n",
    "# extended names for readability\n",
    "names_ext = ['Custom', 'Otsu', 'Adapt. Mean', 'Adapt. Gaussian', 'PCA']\n",
    "l_train = [train_CustGray_2d, train_OBT_2d, train_AMT_2d, train_AGT_2d, train_PCA_2d]\n",
    "l_test = [test_CustGray_2d, test_OBT_2d, test_AMT_2d, test_AGT_2d, test_PCA_2d]\n",
    "overall_dict = {}"
   ]
  },
  {
   "cell_type": "markdown",
   "metadata": {},
   "source": [
    "# Visualize Important Pixels"
   ]
  },
  {
   "cell_type": "code",
   "execution_count": 10,
   "metadata": {
    "collapsed": false
   },
   "outputs": [],
   "source": [
    "img_dir = 'imgs'\n",
    "if not os.path.exists(img_dir):\n",
    "    os.makedirs(img_dir)\n",
    "    \n",
    "def important_pixels(mdl, save_img, ht=32, wd=20):\n",
    "    '''\n",
    "    source: http://scikit-learn.org/stable/auto_examples/ensemble/plot_forest_importances_faces. \\\n",
    "                            html#example-ensemble-plot-forest-importances-faces-py\n",
    "    '''\n",
    "    importances = mdl.feature_importances_\n",
    "    try:\n",
    "        importances = importances.reshape(ht,wd)\n",
    "\n",
    "        # Plot pixel importances\n",
    "        plt.matshow(importances, cmap=plt.cm.hot)\n",
    "        plt.axis('off')\n",
    "        plt.savefig('{0}/{1}'.format(img_dir, save_img), bbox_inches='tight')\n",
    "    except:\n",
    "        pass"
   ]
  },
  {
   "cell_type": "markdown",
   "metadata": {},
   "source": [
    "# Model Folder"
   ]
  },
  {
   "cell_type": "code",
   "execution_count": 11,
   "metadata": {
    "collapsed": true
   },
   "outputs": [],
   "source": [
    "mdl_dir = 'models'\n",
    "if not os.path.exists(mdl_dir):\n",
    "    os.makedirs(mdl_dir)"
   ]
  },
  {
   "cell_type": "markdown",
   "metadata": {},
   "source": [
    "# Ada Boost Classifier"
   ]
  },
  {
   "cell_type": "code",
   "execution_count": 102,
   "metadata": {
    "collapsed": false
   },
   "outputs": [],
   "source": [
    "from sklearn.ensemble import AdaBoostClassifier\n",
    "\n",
    "# Attributes\n",
    "# estimators_ : list of classifiers\n",
    "# classes_ : array of shape = [n_classes]\n",
    "# n_classes_ : int\n",
    "# estimator_weights_ : array of floats\n",
    "# estimator_errors_ : array of floats\n",
    "# feature_importances_ : array of shape = [n_features]\n",
    "\n",
    "ab_dict = {}\n",
    "\n",
    "for i,dataset in enumerate(l_train):\n",
    "    n_estimators=50\n",
    "    \n",
    "    ab_clf = AdaBoostClassifier(base_estimator=None, n_estimators=n_estimators, learning_rate=1.0, \n",
    "                                 algorithm='SAMME.R', random_state=None)\n",
    "    # cross-validation training score\n",
    "    scores = cross_val_score(ab_clf, dataset, train_labels)\n",
    "    \n",
    "    # append results to dictionary\n",
    "    ab_dict[('{0}'.format(names[i]))] = scores.mean()*100\n",
    "    \n",
    "    # models - save to disk for later use without re-running\n",
    "    ab_mdl = ab_clf.fit(dataset, train_labels) \n",
    "    \n",
    "    with open('{0}/ada_boost_{1}.pkl'.format(mdl_dir, names[i]), 'wb') as f:\n",
    "        pickle.dump(ab_mdl, f)  \n",
    "    \n",
    "    # un-comment to get pixel importance images\n",
    "    # important_pixels(ab_mdl, 'ada_boost_{0}'.format(names[i]))"
   ]
  },
  {
   "cell_type": "code",
   "execution_count": 103,
   "metadata": {
    "collapsed": false
   },
   "outputs": [
    {
     "data": {
      "text/plain": [
       "{'AGT': 19.601571674291097,\n",
       " 'AMT': 19.901917264897509,\n",
       " 'Cust': 20.760998576551458,\n",
       " 'OBT': 20.48886398197746,\n",
       " 'PCA': 28.022917438729621}"
      ]
     },
     "execution_count": 103,
     "metadata": {},
     "output_type": "execute_result"
    }
   ],
   "source": [
    "overall_dict['ada_boost'] = ab_dict\n",
    "ab_dict"
   ]
  },
  {
   "cell_type": "markdown",
   "metadata": {},
   "source": [
    "# Bagging Classifier"
   ]
  },
  {
   "cell_type": "code",
   "execution_count": 17,
   "metadata": {
    "collapsed": true
   },
   "outputs": [],
   "source": [
    "from sklearn.ensemble import BaggingClassifier\n",
    "\n",
    "# Attributes\n",
    "# base_estimator_ : list of estimators\n",
    "# estimators_ : list of estimators\n",
    "# estimators_samples_ : list of arrays\n",
    "# estimators_features_ : list of arrays\n",
    "# classes_ : array of shape = [n_classes]\n",
    "# n_classes_ : int or list\n",
    "# oob_score_ : float\n",
    "# oob_decision_function_ : array of shape = [n_samples, n_classes]\n",
    "\n",
    "bag_dict = {}\n",
    "\n",
    "for i,dataset in enumerate(l_train):\n",
    "    bag_clf = BaggingClassifier(base_estimator=None, n_estimators=10, max_samples=1.0, max_features=1.0, \n",
    "                                bootstrap=True, bootstrap_features=False, oob_score=False, warm_start=False, \n",
    "                                n_jobs=-1, random_state=None, verbose=0)\n",
    "    # cross-validation training score\n",
    "    scores = cross_val_score(bag_clf, dataset, train_labels)\n",
    "    \n",
    "    # append results to dictionary\n",
    "    bag_dict['{0}'.format(names[i])] = scores.mean()*100\n",
    "    \n",
    "    # models - save to disk for later use without re-running\n",
    "    bag_mdl = bag_clf.fit(dataset, train_labels) \n",
    "    \n",
    "    with open('{0}/bagging_{1}.pkl'.format(mdl_dir, names[i]), 'wb') as f:\n",
    "        pickle.dump(bag_mdl, f)  "
   ]
  },
  {
   "cell_type": "code",
   "execution_count": 18,
   "metadata": {
    "collapsed": false
   },
   "outputs": [
    {
     "data": {
      "text/plain": [
       "{'AGT': 51.744693033755077,\n",
       " 'AMT': 58.091814543224764,\n",
       " 'Cust': 45.303622931982844,\n",
       " 'OBT': 59.446021398363044,\n",
       " 'PCA': 45.863666314590134}"
      ]
     },
     "execution_count": 18,
     "metadata": {},
     "output_type": "execute_result"
    }
   ],
   "source": [
    "overall_dict['bagging'] = bag_dict\n",
    "bag_dict"
   ]
  },
  {
   "cell_type": "markdown",
   "metadata": {},
   "source": [
    "# Gradient Boosting Classifier - TAKES A LONG TIME TO RUN"
   ]
  },
  {
   "cell_type": "code",
   "execution_count": 44,
   "metadata": {
    "collapsed": false
   },
   "outputs": [],
   "source": [
    "from sklearn.ensemble import GradientBoostingClassifier\n",
    "\n",
    "# Attributes\n",
    "# feature_importances_ : array, shape = [n_features]\n",
    "# oob_improvement_ : array, shape = [n_estimators]\n",
    "# train_score_ : array, shape = [n_estimators]\n",
    "# loss_ : LossFunction\n",
    "# init : BaseEstimator\n",
    "# estimators_ : ndarray of DecisionTreeRegressor, shape = [n_estimators, loss_.K]\n",
    "    \n",
    "gb_dict = {}\n",
    "\n",
    "n_estimators=60\n",
    "\n",
    "# min_samples_split => 0.5%-1% of total values\n",
    "min_samples_split = round(0.005*len(train_labels))\n",
    "\n",
    "# min_samples_leaf => 50\n",
    "min_samples_leaf = 50\n",
    "\n",
    "# max_depth => between 5-8\n",
    "max_depth = 6\n",
    "\n",
    "# max_features => 'sqrt' as a rule of thumb to start\n",
    "max_features = 'sqrt'\n",
    "\n",
    "# subsample => 0.8 to start\n",
    "subsample = 0.5\n",
    "\n",
    "for i,dataset in enumerate(l_train):\n",
    "    gb_clf = GradientBoostingClassifier(loss='deviance', learning_rate=0.1, n_estimators=n_estimators, \n",
    "                                    subsample=subsample, min_samples_split=min_samples_split, \n",
    "                                    min_samples_leaf=min_samples_leaf, max_depth=max_depth, init=None, \n",
    "                                    random_state=None, max_features=max_features, verbose=0, \n",
    "                                    max_leaf_nodes=None, warm_start=False, presort='auto')\n",
    "    # cross-validation training score\n",
    "    scores = cross_val_score(gb_clf, dataset, train_labels)\n",
    "    \n",
    "    # append results to dictionary\n",
    "    gb_dict[('{0}'.format(names[i]))] = scores.mean()*100\n",
    "    \n",
    "    # models - save to disk for later use without re-running\n",
    "    gb_mdl = gb_clf.fit(dataset, train_labels)\n",
    "    \n",
    "    with open('{0}/gradient_boost_{1}.pkl'.format(mdl_dir, names[i]), 'wb') as f:\n",
    "        pickle.dump(gb_mdl, f)  \n",
    "    \n",
    "    # un-comment to get pixel importance images\n",
    "    # important_pixels(gb_mdl, 'gradient_boost_{0}'.format(names[i]))"
   ]
  },
  {
   "cell_type": "code",
   "execution_count": 45,
   "metadata": {
    "collapsed": false
   },
   "outputs": [
    {
     "data": {
      "text/plain": [
       "{'AGT': 66.037935726238189,\n",
       " 'AMT': 69.354075470864302,\n",
       " 'Cust': 51.884193162379169,\n",
       " 'OBT': 66.091758264729279,\n",
       " 'PCA': 54.339841547410074}"
      ]
     },
     "execution_count": 45,
     "metadata": {},
     "output_type": "execute_result"
    }
   ],
   "source": [
    "overall_dict['gradient_boost'] = gb_dict\n",
    "gb_dict"
   ]
  },
  {
   "cell_type": "markdown",
   "metadata": {},
   "source": [
    "# Decision Tree Classifier"
   ]
  },
  {
   "cell_type": "code",
   "execution_count": 61,
   "metadata": {
    "collapsed": false,
    "scrolled": false
   },
   "outputs": [],
   "source": [
    "from sklearn.tree import DecisionTreeClassifier\n",
    "\n",
    "# classes_ : array of shape = [n_classes] or a list of such arrays\n",
    "# feature_importances_ : array of shape = [n_features]\n",
    "# max_features_ : int,\n",
    "# n_classes_ : int or list\n",
    "# n_features_ : int\n",
    "# n_outputs_ : int\n",
    "# tree_ : Tree object\n",
    "\n",
    "dtr_dict = {}\n",
    "\n",
    "for i,dataset in enumerate(l_train):\n",
    "    dtr_clf = DecisionTreeClassifier(criterion='gini', splitter='best', max_depth=None, min_samples_split=2, \n",
    "                            min_samples_leaf=1, min_weight_fraction_leaf=0.0, max_features=None, random_state=None, \n",
    "                            max_leaf_nodes=None, class_weight=None, presort=False)\n",
    "\n",
    "    # cross-validation training score\n",
    "    scores = cross_val_score(dtr_clf, dataset, train_labels)\n",
    "    \n",
    "    # append results to dictionary\n",
    "    dtr_dict['{0}'.format(names[i])] = scores.mean()*100\n",
    "    \n",
    "    # models - save to disk for later use without re-running\n",
    "    dtr_mdl = dtr_clf.fit(dataset, train_labels)\n",
    "    \n",
    "    with open('{0}/decision_tree_{1}.pkl'.format(mdl_dir, names[i]), 'wb') as f:\n",
    "        pickle.dump(dtr_mdl, f)  \n",
    "    \n",
    "    # un-comment to get pixel importance images\n",
    "    # important_pixels(dtr_mdl, 'decision_tree{0}'.format(names[i]))"
   ]
  },
  {
   "cell_type": "code",
   "execution_count": 62,
   "metadata": {
    "collapsed": false
   },
   "outputs": [
    {
     "data": {
      "text/plain": [
       "{'AGT': 36.241053353521011,\n",
       " 'AMT': 40.417382737230575,\n",
       " 'Cust': 32.282755242745267,\n",
       " 'OBT': 45.276804631082427,\n",
       " 'PCA': 32.925135116440707}"
      ]
     },
     "execution_count": 62,
     "metadata": {},
     "output_type": "execute_result"
    }
   ],
   "source": [
    "overall_dict['decision_tree'] = dtr_dict\n",
    "dtr_dict"
   ]
  },
  {
   "cell_type": "markdown",
   "metadata": {},
   "source": [
    "# Extra Trees Classifier"
   ]
  },
  {
   "cell_type": "code",
   "execution_count": 115,
   "metadata": {
    "collapsed": false
   },
   "outputs": [],
   "source": [
    "from sklearn.ensemble import ExtraTreesClassifier\n",
    "\n",
    "etr_dict = {}\n",
    "\n",
    "for i,dataset in enumerate(l_train):\n",
    "    \n",
    "    etr_clf = ExtraTreesClassifier(n_estimators=10, criterion='gini', max_depth=None, min_samples_split=2, \n",
    "                   min_samples_leaf=1, min_weight_fraction_leaf=0.0, max_features='auto', \n",
    "                   max_leaf_nodes=None, bootstrap=False, oob_score=False, n_jobs=-1, random_state=None, \n",
    "                   verbose=0, warm_start=False, class_weight=None)\n",
    "    ''' BETTER!!!\n",
    "    etr_clf = ExtraTreesClassifier(n_estimators=300, criterion='gini', max_depth=None, min_samples_split=4, \n",
    "                    min_samples_leaf=2, min_weight_fraction_leaf=0.0, max_features='sqrt', max_leaf_nodes=None, \n",
    "                    bootstrap=False, oob_score=False, n_jobs=-1, random_state=None, verbose=0, warm_start=False, \n",
    "                    class_weight=None)\n",
    "    '''\n",
    "    # cross-validation training score\n",
    "    scores = cross_val_score(etr_clf, dataset, train_labels)\n",
    "    \n",
    "    # append results to dictionary\n",
    "    etr_dict['{0}'.format(names[i])] = scores.mean()*100\n",
    "    \n",
    "    # models - save to disk for later use without re-running\n",
    "    etr_mdl = etr_clf.fit(dataset, train_labels)\n",
    "    \n",
    "    with open('{0}/extra_trees_{1}.pkl'.format(mdl_dir, names[i]), 'wb') as f:\n",
    "        pickle.dump(etr_mdl, f)  \n",
    "    \n",
    "    # un-comment to get pixel importance images\n",
    "    # important_pixels(etr_mdl, 'extra_tree{0}'.format(names[i]))"
   ]
  },
  {
   "cell_type": "code",
   "execution_count": 116,
   "metadata": {
    "collapsed": false
   },
   "outputs": [
    {
     "data": {
      "text/plain": [
       "{'AGT': 51.309697386944066,\n",
       " 'AMT': 57.984050839499432,\n",
       " 'Cust': 44.307042077650721,\n",
       " 'OBT': 59.431755931067833,\n",
       " 'PCA': 39.081618198730602}"
      ]
     },
     "execution_count": 116,
     "metadata": {},
     "output_type": "execute_result"
    }
   ],
   "source": [
    "overall_dict['extra_trees'] = etr_dict\n",
    "etr_dict"
   ]
  },
  {
   "cell_type": "code",
   "execution_count": 99,
   "metadata": {
    "collapsed": false
   },
   "outputs": [
    {
     "name": "stdout",
     "output_type": "stream",
     "text": [
      "             precision    recall  f1-score   support\n",
      "\n",
      "          0       0.42      0.52      0.47       180\n",
      "          1       0.64      0.83      0.72       509\n",
      "          2       0.57      0.72      0.64       394\n",
      "          3       0.46      0.44      0.45       295\n",
      "          4       0.55      0.54      0.54       256\n",
      "          5       0.46      0.47      0.47       231\n",
      "          6       0.46      0.31      0.37       199\n",
      "          7       0.71      0.47      0.56       202\n",
      "          8       0.55      0.29      0.38       175\n",
      "          9       0.58      0.33      0.42       162\n",
      "\n",
      "avg / total       0.55      0.55      0.54      2603\n",
      "\n"
     ]
    }
   ],
   "source": [
    "etr_clf = ExtraTreesClassifier()\n",
    "etr_mdl = etr_clf.fit(train_AMT_2d, train_labels)\n",
    "print(classification_report(test_labels, etr_clf.predict(test_AMT_2d), digits=2))"
   ]
  },
  {
   "cell_type": "markdown",
   "metadata": {},
   "source": [
    "# Random Forrest Classifier"
   ]
  },
  {
   "cell_type": "code",
   "execution_count": 26,
   "metadata": {
    "collapsed": false
   },
   "outputs": [],
   "source": [
    "from sklearn.ensemble import RandomForestClassifier\n",
    "\n",
    "# Attributes\n",
    "# estimators_ : list of DecisionTreeClassifier\n",
    "# classes_ : array of shape = [n_classes] or a list of such arrays\n",
    "# n_classes_ : int or list\n",
    "# n_features_ : int\n",
    "# n_outputs_ : int\n",
    "# feature_importances_ : array of shape = [n_features]\n",
    "# oob_score_ : float\n",
    "# oob_decision_function_ : array of shape = [n_samples, n_classes]\n",
    "    \n",
    "rf_dict = {}\n",
    "\n",
    "for i,dataset in enumerate(l_train):\n",
    "    rf_clf = RandomForestClassifier(n_estimators=10, criterion='gini', max_depth=None, min_samples_split=2, \n",
    "                                min_samples_leaf=1, min_weight_fraction_leaf=0.0, max_features='auto', \n",
    "                                max_leaf_nodes=None, bootstrap=True, oob_score=False, n_jobs=-1, random_state=None, \n",
    "                                verbose=0, warm_start=False, class_weight=None)\n",
    "\n",
    "    # cross-validation training score\n",
    "    scores = cross_val_score(rf_clf, dataset, train_labels)\n",
    "    \n",
    "    # append results to dictionary\n",
    "    rf_dict['{0}'.format(names[i])] = scores.mean()*100\n",
    "    \n",
    "    # models - save to disk for later use without re-running\n",
    "    rf_mdl = rf_clf.fit(dataset, train_labels)\n",
    "    \n",
    "    with open('{0}/random_forrest_{1}.pkl'.format(mdl_dir, names[i]), 'wb') as f:\n",
    "        pickle.dump(rf_mdl, f)  \n",
    "    \n",
    "    # un-comment to get pixel importance images\n",
    "    # important_pixels(rf_mdl, 'random_forrest{0}'.format(names[i]))"
   ]
  },
  {
   "cell_type": "code",
   "execution_count": 27,
   "metadata": {
    "collapsed": false
   },
   "outputs": [
    {
     "data": {
      "text/plain": [
       "{'AGT': 48.156855776592671,\n",
       " 'AMT': 54.081336745595067,\n",
       " 'Cust': 42.397540514785462,\n",
       " 'OBT': 56.93381355845144,\n",
       " 'PCA': 42.313995411176244}"
      ]
     },
     "execution_count": 27,
     "metadata": {},
     "output_type": "execute_result"
    }
   ],
   "source": [
    "overall_dict['random_forrest'] = rf_dict\n",
    "rf_dict"
   ]
  },
  {
   "cell_type": "markdown",
   "metadata": {},
   "source": [
    "# KNN"
   ]
  },
  {
   "cell_type": "code",
   "execution_count": 28,
   "metadata": {
    "collapsed": false
   },
   "outputs": [],
   "source": [
    "from sklearn.neighbors import KNeighborsClassifier\n",
    "    \n",
    "knn_dict = {}\n",
    "\n",
    "for i,dataset in enumerate(l_train):\n",
    "    knn_clf = KNeighborsClassifier(n_neighbors=5, weights='uniform', algorithm='auto', leaf_size=30, p=2, \n",
    "                                   metric='minkowski', metric_params=None, n_jobs=-1)\n",
    "\n",
    "    # cross-validation training score\n",
    "    scores = cross_val_score(knn_clf, dataset, train_labels)\n",
    "    \n",
    "    # append results to dictionary\n",
    "    knn_dict['{0}'.format(names[i])] = scores.mean()*100\n",
    "    \n",
    "    # models - save to disk for later use without re-running\n",
    "    knn_mdl = knn_clf.fit(dataset, train_labels)\n",
    "    \n",
    "    with open('{0}/kneighbors_{1}.pkl'.format(mdl_dir, names[i]), 'wb') as f:\n",
    "        pickle.dump(knn_mdl, f)  "
   ]
  },
  {
   "cell_type": "code",
   "execution_count": 29,
   "metadata": {
    "collapsed": false
   },
   "outputs": [
    {
     "data": {
      "text/plain": [
       "{'AGT': 60.278115454419712,\n",
       " 'AMT': 63.771514237182359,\n",
       " 'Cust': 44.868008839839568,\n",
       " 'OBT': 56.469231326074706,\n",
       " 'PCA': 61.575175530410156}"
      ]
     },
     "execution_count": 29,
     "metadata": {},
     "output_type": "execute_result"
    }
   ],
   "source": [
    "overall_dict['kneighbors'] = knn_dict\n",
    "knn_dict"
   ]
  },
  {
   "cell_type": "markdown",
   "metadata": {},
   "source": [
    "# SVM Classifier"
   ]
  },
  {
   "cell_type": "code",
   "execution_count": 32,
   "metadata": {
    "collapsed": false
   },
   "outputs": [],
   "source": [
    "from sklearn.svm import SVC\n",
    "\n",
    "svc_dict = {}\n",
    "\n",
    "for i,dataset in enumerate(l_train):\n",
    "    svc_clf = SVC(C=1.0, kernel='rbf', degree=3, gamma='auto', coef0=0.0, shrinking=True, probability=False, \n",
    "                  tol=0.001, cache_size=1000, class_weight=None, verbose=False, max_iter=-1, \n",
    "                  decision_function_shape=None)\n",
    "\n",
    "    # cross-validation training score\n",
    "    scores = cross_val_score(svc_clf, dataset, train_labels)\n",
    "    \n",
    "    # append results to dictionary\n",
    "    svc_dict['{0}'.format(names[i])] = scores.mean()*100\n",
    "    \n",
    "    # models - save to disk for later use without re-running\n",
    "    svc_mdl = svc_clf.fit(dataset, train_labels)\n",
    "    \n",
    "    with open('{0}/svc_{1}.pkl'.format(mdl_dir, names[i]), 'wb') as f:\n",
    "        pickle.dump(svc_mdl, f)  "
   ]
  },
  {
   "cell_type": "code",
   "execution_count": 33,
   "metadata": {
    "collapsed": false
   },
   "outputs": [
    {
     "data": {
      "text/plain": [
       "{'AGT': 19.178291874734157,\n",
       " 'AMT': 19.178291874734157,\n",
       " 'Cust': 19.178291874734157,\n",
       " 'OBT': 19.178291874734157,\n",
       " 'PCA': 65.969377416059118}"
      ]
     },
     "execution_count": 33,
     "metadata": {},
     "output_type": "execute_result"
    }
   ],
   "source": [
    "overall_dict['svc'] = svc_dict\n",
    "svc_dict"
   ]
  },
  {
   "cell_type": "markdown",
   "metadata": {},
   "source": [
    "# Logistic Regression Classifier"
   ]
  },
  {
   "cell_type": "code",
   "execution_count": 34,
   "metadata": {
    "collapsed": false
   },
   "outputs": [],
   "source": [
    "from sklearn.linear_model import SGDClassifier\n",
    "\n",
    "logr_dict = {}\n",
    "\n",
    "for i,dataset in enumerate(l_train):\n",
    "    logr_clf = SGDClassifier(loss='hinge', penalty='l2', alpha=0.0001, l1_ratio=0.15, fit_intercept=True, n_iter=5, \n",
    "                             shuffle=True, verbose=0, epsilon=0.1, n_jobs=-1, random_state=None, learning_rate='optimal', \n",
    "                             eta0=0.0, power_t=0.5, class_weight=None, warm_start=False, average=False)\n",
    "\n",
    "    # cross-validation training score\n",
    "    scores = cross_val_score(logr_clf, dataset, train_labels)\n",
    "    \n",
    "    # append results to dictionary\n",
    "    logr_dict['{0}'.format(names[i])] = scores.mean()*100\n",
    "    \n",
    "    # models - save to disk for later use without re-running\n",
    "    logr_mdl = logr_clf.fit(dataset, train_labels)\n",
    "    \n",
    "    with open('{0}/log_regression_{1}.pkl'.format(mdl_dir, names[i]), 'wb') as f:\n",
    "        pickle.dump(logr_mdl, f)  "
   ]
  },
  {
   "cell_type": "code",
   "execution_count": 35,
   "metadata": {
    "collapsed": false
   },
   "outputs": [
    {
     "data": {
      "text/plain": [
       "{'AGT': 15.820478812750046,\n",
       " 'AMT': 16.296893541439353,\n",
       " 'Cust': 14.831754917202304,\n",
       " 'OBT': 13.580477203544685,\n",
       " 'PCA': 16.530748346943867}"
      ]
     },
     "execution_count": 35,
     "metadata": {},
     "output_type": "execute_result"
    }
   ],
   "source": [
    "overall_dict['log_regression'] = logr_dict\n",
    "logr_dict"
   ]
  },
  {
   "cell_type": "code",
   "execution_count": 117,
   "metadata": {
    "collapsed": false
   },
   "outputs": [
    {
     "data": {
      "text/plain": [
       "[('random_forrest',\n",
       "  {'AGT': 48.156855776592671,\n",
       "   'AMT': 54.081336745595067,\n",
       "   'Cust': 42.397540514785462,\n",
       "   'OBT': 56.93381355845144,\n",
       "   'PCA': 42.313995411176244}),\n",
       " ('log_regression',\n",
       "  {'AGT': 15.820478812750046,\n",
       "   'AMT': 16.296893541439353,\n",
       "   'Cust': 14.831754917202304,\n",
       "   'OBT': 13.580477203544685,\n",
       "   'PCA': 16.530748346943867}),\n",
       " ('kneighbors',\n",
       "  {'AGT': 60.278115454419712,\n",
       "   'AMT': 63.771514237182359,\n",
       "   'Cust': 44.868008839839568,\n",
       "   'OBT': 56.469231326074706,\n",
       "   'PCA': 61.575175530410156}),\n",
       " ('extra_trees',\n",
       "  {'AGT': 51.309697386944066,\n",
       "   'AMT': 57.984050839499432,\n",
       "   'Cust': 44.307042077650721,\n",
       "   'OBT': 59.431755931067833,\n",
       "   'PCA': 39.081618198730602}),\n",
       " ('bagging',\n",
       "  {'AGT': 51.744693033755077,\n",
       "   'AMT': 58.091814543224764,\n",
       "   'Cust': 45.303622931982844,\n",
       "   'OBT': 59.446021398363044,\n",
       "   'PCA': 45.863666314590134}),\n",
       " ('gradient_boost',\n",
       "  {'AGT': 66.037935726238189,\n",
       "   'AMT': 69.354075470864302,\n",
       "   'Cust': 51.884193162379169,\n",
       "   'OBT': 66.091758264729279,\n",
       "   'PCA': 54.339841547410074}),\n",
       " ('ada_boost',\n",
       "  {'AGT': 19.601571674291097,\n",
       "   'AMT': 19.901917264897509,\n",
       "   'Cust': 20.760998576551458,\n",
       "   'OBT': 20.48886398197746,\n",
       "   'PCA': 28.022917438729621}),\n",
       " ('decision_tree',\n",
       "  {'AGT': 36.241053353521011,\n",
       "   'AMT': 40.417382737230575,\n",
       "   'Cust': 32.282755242745267,\n",
       "   'OBT': 45.276804631082427,\n",
       "   'PCA': 32.925135116440707}),\n",
       " ('svc',\n",
       "  {'AGT': 19.178291874734157,\n",
       "   'AMT': 19.178291874734157,\n",
       "   'Cust': 19.178291874734157,\n",
       "   'OBT': 19.178291874734157,\n",
       "   'PCA': 65.969377416059118})]"
      ]
     },
     "execution_count": 117,
     "metadata": {},
     "output_type": "execute_result"
    }
   ],
   "source": [
    "list(overall_dict.items())"
   ]
  },
  {
   "cell_type": "code",
   "execution_count": 118,
   "metadata": {
    "collapsed": false
   },
   "outputs": [],
   "source": [
    "# get model names\n",
    "mdls = [k for k,v in overall_dict.items()]\n",
    "\n",
    "# get cross fold scores for each model\n",
    "lst_cnts = [[v for k,v in overall_dict[mdl].items()] for mdl in mdls]"
   ]
  },
  {
   "cell_type": "code",
   "execution_count": 119,
   "metadata": {
    "collapsed": false
   },
   "outputs": [
    {
     "data": {
      "image/png": "[encoded data removed]",
      "text/plain": [
       "<matplotlib.figure.Figure at 0x10dbe02e8>"
      ]
     },
     "metadata": {},
     "output_type": "display_data"
    }
   ],
   "source": [
    "# colors\n",
    "sns.set_palette(\"hot\")\n",
    "colors = sns.color_palette('hot',9)\n",
    "\n",
    "# make figure\n",
    "fig = plt.figure(figsize=(20,12))\n",
    "ax = fig.add_subplot(111)\n",
    "\n",
    "# spacing/size\n",
    "width = 0.1\n",
    "steps = [-0.4, -0.3, -0.2, -0.1, 0, 0.1, 0.2, 0.3, 0.4]\n",
    "pos = []\n",
    "for j in steps:\n",
    "    temp = []\n",
    "    for k in range(1,6):\n",
    "        temp.append(k+j)\n",
    "    pos.append(temp)\n",
    "pos\n",
    "\n",
    "# plots\n",
    "for i in range(9):\n",
    "    plt.bar(pos[i], lst_cnts[i], width=width, align='center', color=colors[i], alpha=0.8, edgecolor='w', \n",
    "            label=mdls[i])\n",
    "\n",
    "# labels/titles\n",
    "plt.legend(loc=\"best\")\n",
    "plt.xlabel('Threshold Technique')\n",
    "plt.ylabel('CFV Score')\n",
    "plt.title('Accuracy by Model and Threshold')\n",
    "\n",
    "ticks = range(1,6)\n",
    "plt.xlim(0.5,5.5)\n",
    "plt.xticks(ticks, names_ext)\n",
    "plt.ylim(0,100)\n",
    "\n",
    "# remove border\n",
    "ax.spines[\"top\"].set_visible(False)  \n",
    "ax.spines[\"right\"].set_visible(False) \n",
    "ax.spines[\"bottom\"].set_visible(False) \n",
    "ax.spines[\"left\"].set_visible(False)\n",
    "\n",
    "# show grid\n",
    "ax.yaxis.grid(True) \n",
    "\n",
    "# plot that biddy\n",
    "plt.tight_layout()\n",
    "_ = plt.show()"
   ]
  },
  {
   "cell_type": "code",
   "execution_count": 120,
   "metadata": {
    "collapsed": false
   },
   "outputs": [
    {
     "data": {
      "text/html": [
       "<div>\n",
       "<table border=\"1\" class=\"dataframe\">\n",
       "  <thead>\n",
       "    <tr style=\"text-align: right;\">\n",
       "      <th></th>\n",
       "      <th>ada_boost</th>\n",
       "      <th>bagging</th>\n",
       "      <th>decision_tree</th>\n",
       "      <th>extra_trees</th>\n",
       "      <th>gradient_boost</th>\n",
       "      <th>kneighbors</th>\n",
       "      <th>log_regression</th>\n",
       "      <th>random_forrest</th>\n",
       "      <th>svc</th>\n",
       "    </tr>\n",
       "  </thead>\n",
       "  <tbody>\n",
       "    <tr>\n",
       "      <th>AGT</th>\n",
       "      <td>19.601572</td>\n",
       "      <td>51.744693</td>\n",
       "      <td>36.241053</td>\n",
       "      <td>51.309697</td>\n",
       "      <td>66.037936</td>\n",
       "      <td>60.278115</td>\n",
       "      <td>15.820479</td>\n",
       "      <td>48.156856</td>\n",
       "      <td>19.178292</td>\n",
       "    </tr>\n",
       "    <tr>\n",
       "      <th>AMT</th>\n",
       "      <td>19.901917</td>\n",
       "      <td>58.091815</td>\n",
       "      <td>40.417383</td>\n",
       "      <td>57.984051</td>\n",
       "      <td>69.354075</td>\n",
       "      <td>63.771514</td>\n",
       "      <td>16.296894</td>\n",
       "      <td>54.081337</td>\n",
       "      <td>19.178292</td>\n",
       "    </tr>\n",
       "    <tr>\n",
       "      <th>Cust</th>\n",
       "      <td>20.760999</td>\n",
       "      <td>45.303623</td>\n",
       "      <td>32.282755</td>\n",
       "      <td>44.307042</td>\n",
       "      <td>51.884193</td>\n",
       "      <td>44.868009</td>\n",
       "      <td>14.831755</td>\n",
       "      <td>42.397541</td>\n",
       "      <td>19.178292</td>\n",
       "    </tr>\n",
       "    <tr>\n",
       "      <th>OBT</th>\n",
       "      <td>20.488864</td>\n",
       "      <td>59.446021</td>\n",
       "      <td>45.276805</td>\n",
       "      <td>59.431756</td>\n",
       "      <td>66.091758</td>\n",
       "      <td>56.469231</td>\n",
       "      <td>13.580477</td>\n",
       "      <td>56.933814</td>\n",
       "      <td>19.178292</td>\n",
       "    </tr>\n",
       "    <tr>\n",
       "      <th>PCA</th>\n",
       "      <td>28.022917</td>\n",
       "      <td>45.863666</td>\n",
       "      <td>32.925135</td>\n",
       "      <td>39.081618</td>\n",
       "      <td>54.339842</td>\n",
       "      <td>61.575176</td>\n",
       "      <td>16.530748</td>\n",
       "      <td>42.313995</td>\n",
       "      <td>65.969377</td>\n",
       "    </tr>\n",
       "  </tbody>\n",
       "</table>\n",
       "</div>"
      ],
      "text/plain": [
       "      ada_boost    bagging  decision_tree  extra_trees  gradient_boost  \\\n",
       "AGT   19.601572  51.744693      36.241053    51.309697       66.037936   \n",
       "AMT   19.901917  58.091815      40.417383    57.984051       69.354075   \n",
       "Cust  20.760999  45.303623      32.282755    44.307042       51.884193   \n",
       "OBT   20.488864  59.446021      45.276805    59.431756       66.091758   \n",
       "PCA   28.022917  45.863666      32.925135    39.081618       54.339842   \n",
       "\n",
       "      kneighbors  log_regression  random_forrest        svc  \n",
       "AGT    60.278115       15.820479       48.156856  19.178292  \n",
       "AMT    63.771514       16.296894       54.081337  19.178292  \n",
       "Cust   44.868009       14.831755       42.397541  19.178292  \n",
       "OBT    56.469231       13.580477       56.933814  19.178292  \n",
       "PCA    61.575176       16.530748       42.313995  65.969377  "
      ]
     },
     "execution_count": 120,
     "metadata": {},
     "output_type": "execute_result"
    }
   ],
   "source": [
    "df = pd.DataFrame(overall_dict)\n",
    "df"
   ]
  },
  {
   "cell_type": "code",
   "execution_count": 121,
   "metadata": {
    "collapsed": false
   },
   "outputs": [
    {
     "data": {
      "image/png": "[encoded data removed]",
      "text/plain": [
       "<matplotlib.figure.Figure at 0x1107a4630>"
      ]
     },
     "metadata": {},
     "output_type": "display_data"
    }
   ],
   "source": [
    "# make figure\n",
    "fig = plt.figure(figsize=(20,12))\n",
    "ax = fig.add_subplot(111)\n",
    "\n",
    "# plots\n",
    "ax = sns.heatmap(df, annot=True, cmap=\"hot_r\", alpha=0.8, linewidths=.1, vmin=0, vmax=100)\n",
    "\n",
    "# labels/titles\n",
    "plt.title('Accuracy by Model and Threshold')\n",
    "\n",
    "# remove border\n",
    "ax.spines[\"top\"].set_visible(False)  \n",
    "ax.spines[\"right\"].set_visible(False) \n",
    "ax.spines[\"bottom\"].set_visible(False) \n",
    "ax.spines[\"left\"].set_visible(False)\n",
    "\n",
    "# show grid\n",
    "ax.yaxis.grid(False) \n",
    "\n",
    "# plot that biddy\n",
    "plt.tight_layout()\n",
    "_ = plt.show()"
   ]
  },
  {
   "cell_type": "code",
   "execution_count": null,
   "metadata": {
    "collapsed": true
   },
   "outputs": [],
   "source": []
  }
 ],
 "metadata": {
  "anaconda-cloud": {},
  "kernelspec": {
   "display_name": "Python [Root]",
   "language": "python",
   "name": "Python [Root]"
  },
  "language_info": {
   "codemirror_mode": {
    "name": "ipython",
    "version": 3
   },
   "file_extension": ".py",
   "mimetype": "text/x-python",
   "name": "python",
   "nbconvert_exporter": "python",
   "pygments_lexer": "ipython3",
   "version": "3.5.2"
  }
 },
 "nbformat": 4,
 "nbformat_minor": 0
}
